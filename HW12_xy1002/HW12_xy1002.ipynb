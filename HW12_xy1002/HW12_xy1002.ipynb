{
 "cells": [
  {
   "cell_type": "markdown",
   "metadata": {},
   "source": [
    "# Homework 12 by xy1002 (Thursday session)"
   ]
  },
  {
   "cell_type": "markdown",
   "metadata": {},
   "source": [
    "## Download and group data using SQL clause"
   ]
  },
  {
   "cell_type": "code",
   "execution_count": 52,
   "metadata": {
    "collapsed": true
   },
   "outputs": [],
   "source": [
    "import ast\n",
    "# note this is python2 compatible only. the pykriging code is also python2 only\n",
    "import urllib2\n",
    "import urllib\n",
    "from cStringIO import StringIO\n",
    "import json\n",
    "import geopandas as gpd\n",
    "import pandas as pd\n",
    "import zipfile\n",
    "import os\n",
    "\n",
    "SQL_SOURCE = 'https://fb55.carto.com/api/v2/sql'\n",
    "\n",
    "def queryCartoDB(query, format='CSV', source = SQL_SOURCE):\n",
    "    \"\"\" queries a url with an sql compatible search\n",
    "    Arguments:\n",
    "    query : the sql query string\n",
    "    format : the expected format\n",
    "    source \" the url of the API\n",
    "    \"\"\"\n",
    "    data = urllib.urlencode({'format': format, 'q': query})\n",
    "    try:\n",
    "        response = urllib2.urlopen(source, data)\n",
    "    except urllib2.HTTPError, e:\n",
    "        raise ValueError('\\n'.join(ast.literal_eval(e.readline())['error']))\n",
    "    except Exception:\n",
    "        raise\n",
    "    return StringIO(response.read())"
   ]
  },
  {
   "cell_type": "code",
   "execution_count": 45,
   "metadata": {
    "collapsed": false
   },
   "outputs": [
    {
     "data": {
      "text/plain": [
       "{u'fields': {u'count': {u'type': u'number'},\n",
       "  u'zipcodes': {u'type': u'number'}},\n",
       " u'rows': [{u'count': 1699, u'zipcodes': 10461},\n",
       "  {u'count': 405, u'zipcodes': 11373},\n",
       "  {u'count': 1698, u'zipcodes': 10451},\n",
       "  {u'count': 220, u'zipcodes': 11691},\n",
       "  {u'count': 246, u'zipcodes': 11375},\n",
       "  {u'count': 494, u'zipcodes': 10466},\n",
       "  {u'count': 713, u'zipcodes': 11212},\n",
       "  {u'count': 167, u'zipcodes': 11229},\n",
       "  {u'count': 521, u'zipcodes': 11215},\n",
       "  {u'count': 386, u'zipcodes': 11220},\n",
       "  {u'count': 641, u'zipcodes': 11355},\n",
       "  {u'count': 376, u'zipcodes': 11213},\n",
       "  {u'count': 567, u'zipcodes': 11418},\n",
       "  {u'count': 411, u'zipcodes': 10310},\n",
       "  {u'count': 1829, u'zipcodes': 11203},\n",
       "  {u'count': 281, u'zipcodes': 11102},\n",
       "  {u'count': 222, u'zipcodes': 11234},\n",
       "  {u'count': 1156, u'zipcodes': 11237},\n",
       "  {u'count': 421, u'zipcodes': 11219},\n",
       "  {u'count': 822, u'zipcodes': 10457},\n",
       "  {u'count': 320, u'zipcodes': 11235},\n",
       "  {u'count': 466, u'zipcodes': 11206},\n",
       "  {u'count': 1072, u'zipcodes': 10456},\n",
       "  {u'count': 926, u'zipcodes': 11040},\n",
       "  {u'count': 940, u'zipcodes': 11201},\n",
       "  {u'count': 2164, u'zipcodes': 10467},\n",
       "  {u'count': 293, u'zipcodes': 11432},\n",
       "  {u'count': 447, u'zipcodes': 10305},\n",
       "  {u'count': 145, u'zipcodes': 10309}],\n",
       " u'time': 0.019,\n",
       " u'total_rows': 29}"
      ]
     },
     "execution_count": 45,
     "metadata": {},
     "output_type": "execute_result"
    }
   ],
   "source": [
    "# fill in the query details in facilityQuery: \n",
    "# within a single query collect AND GROUP the data by zipcode\n",
    "facilityQuery = 'SELECT COUNT(*), zipcodes FROM NYCAsthmasDismissals GROUP BY zipcodes'\n",
    "\n",
    "\n",
    "facilityStream = queryCartoDB(facilityQuery, format='JSON')\n",
    "facilityData   = json.loads(facilityStream.read())\n",
    "facilityData\n"
   ]
  },
  {
   "cell_type": "code",
   "execution_count": 46,
   "metadata": {
    "collapsed": false
   },
   "outputs": [
    {
     "data": {
      "text/html": [
       "<div>\n",
       "<table border=\"1\" class=\"dataframe\">\n",
       "  <thead>\n",
       "    <tr style=\"text-align: right;\">\n",
       "      <th></th>\n",
       "      <th>count</th>\n",
       "      <th>zipcodes</th>\n",
       "    </tr>\n",
       "  </thead>\n",
       "  <tbody>\n",
       "    <tr>\n",
       "      <th>0</th>\n",
       "      <td>1699</td>\n",
       "      <td>10461</td>\n",
       "    </tr>\n",
       "    <tr>\n",
       "      <th>1</th>\n",
       "      <td>405</td>\n",
       "      <td>11373</td>\n",
       "    </tr>\n",
       "    <tr>\n",
       "      <th>2</th>\n",
       "      <td>1698</td>\n",
       "      <td>10451</td>\n",
       "    </tr>\n",
       "    <tr>\n",
       "      <th>3</th>\n",
       "      <td>220</td>\n",
       "      <td>11691</td>\n",
       "    </tr>\n",
       "    <tr>\n",
       "      <th>4</th>\n",
       "      <td>246</td>\n",
       "      <td>11375</td>\n",
       "    </tr>\n",
       "    <tr>\n",
       "      <th>5</th>\n",
       "      <td>494</td>\n",
       "      <td>10466</td>\n",
       "    </tr>\n",
       "    <tr>\n",
       "      <th>6</th>\n",
       "      <td>713</td>\n",
       "      <td>11212</td>\n",
       "    </tr>\n",
       "    <tr>\n",
       "      <th>7</th>\n",
       "      <td>167</td>\n",
       "      <td>11229</td>\n",
       "    </tr>\n",
       "    <tr>\n",
       "      <th>8</th>\n",
       "      <td>521</td>\n",
       "      <td>11215</td>\n",
       "    </tr>\n",
       "    <tr>\n",
       "      <th>9</th>\n",
       "      <td>386</td>\n",
       "      <td>11220</td>\n",
       "    </tr>\n",
       "    <tr>\n",
       "      <th>10</th>\n",
       "      <td>641</td>\n",
       "      <td>11355</td>\n",
       "    </tr>\n",
       "    <tr>\n",
       "      <th>11</th>\n",
       "      <td>376</td>\n",
       "      <td>11213</td>\n",
       "    </tr>\n",
       "    <tr>\n",
       "      <th>12</th>\n",
       "      <td>567</td>\n",
       "      <td>11418</td>\n",
       "    </tr>\n",
       "    <tr>\n",
       "      <th>13</th>\n",
       "      <td>411</td>\n",
       "      <td>10310</td>\n",
       "    </tr>\n",
       "    <tr>\n",
       "      <th>14</th>\n",
       "      <td>1829</td>\n",
       "      <td>11203</td>\n",
       "    </tr>\n",
       "    <tr>\n",
       "      <th>15</th>\n",
       "      <td>281</td>\n",
       "      <td>11102</td>\n",
       "    </tr>\n",
       "    <tr>\n",
       "      <th>16</th>\n",
       "      <td>222</td>\n",
       "      <td>11234</td>\n",
       "    </tr>\n",
       "    <tr>\n",
       "      <th>17</th>\n",
       "      <td>1156</td>\n",
       "      <td>11237</td>\n",
       "    </tr>\n",
       "    <tr>\n",
       "      <th>18</th>\n",
       "      <td>421</td>\n",
       "      <td>11219</td>\n",
       "    </tr>\n",
       "    <tr>\n",
       "      <th>19</th>\n",
       "      <td>822</td>\n",
       "      <td>10457</td>\n",
       "    </tr>\n",
       "    <tr>\n",
       "      <th>20</th>\n",
       "      <td>320</td>\n",
       "      <td>11235</td>\n",
       "    </tr>\n",
       "    <tr>\n",
       "      <th>21</th>\n",
       "      <td>466</td>\n",
       "      <td>11206</td>\n",
       "    </tr>\n",
       "    <tr>\n",
       "      <th>22</th>\n",
       "      <td>1072</td>\n",
       "      <td>10456</td>\n",
       "    </tr>\n",
       "    <tr>\n",
       "      <th>23</th>\n",
       "      <td>926</td>\n",
       "      <td>11040</td>\n",
       "    </tr>\n",
       "    <tr>\n",
       "      <th>24</th>\n",
       "      <td>940</td>\n",
       "      <td>11201</td>\n",
       "    </tr>\n",
       "    <tr>\n",
       "      <th>25</th>\n",
       "      <td>2164</td>\n",
       "      <td>10467</td>\n",
       "    </tr>\n",
       "    <tr>\n",
       "      <th>26</th>\n",
       "      <td>293</td>\n",
       "      <td>11432</td>\n",
       "    </tr>\n",
       "    <tr>\n",
       "      <th>27</th>\n",
       "      <td>447</td>\n",
       "      <td>10305</td>\n",
       "    </tr>\n",
       "    <tr>\n",
       "      <th>28</th>\n",
       "      <td>145</td>\n",
       "      <td>10309</td>\n",
       "    </tr>\n",
       "  </tbody>\n",
       "</table>\n",
       "</div>"
      ],
      "text/plain": [
       "    count  zipcodes\n",
       "0    1699     10461\n",
       "1     405     11373\n",
       "2    1698     10451\n",
       "3     220     11691\n",
       "4     246     11375\n",
       "5     494     10466\n",
       "6     713     11212\n",
       "7     167     11229\n",
       "8     521     11215\n",
       "9     386     11220\n",
       "10    641     11355\n",
       "11    376     11213\n",
       "12    567     11418\n",
       "13    411     10310\n",
       "14   1829     11203\n",
       "15    281     11102\n",
       "16    222     11234\n",
       "17   1156     11237\n",
       "18    421     11219\n",
       "19    822     10457\n",
       "20    320     11235\n",
       "21    466     11206\n",
       "22   1072     10456\n",
       "23    926     11040\n",
       "24    940     11201\n",
       "25   2164     10467\n",
       "26    293     11432\n",
       "27    447     10305\n",
       "28    145     10309"
      ]
     },
     "execution_count": 46,
     "metadata": {},
     "output_type": "execute_result"
    }
   ],
   "source": [
    "facilities = pd.DataFrame.from_dict(facilityData['rows'])\n",
    "facilities"
   ]
  },
  {
   "cell_type": "markdown",
   "metadata": {},
   "source": [
    "## Find a shape file with zipcode shapes for NYC, download it and open it with geopandas.\n"
   ]
  },
  {
   "cell_type": "code",
   "execution_count": 54,
   "metadata": {
    "collapsed": false
   },
   "outputs": [
    {
     "name": "stdout",
     "output_type": "stream",
     "text": [
      "  % Total    % Received % Xferd  Average Speed   Time    Time     Time  Current\n",
      "                                 Dload  Upload   Total   Spent    Left  Speed\n",
      "100 1478k  100 1478k    0     0  1537k      0 --:--:-- --:--:-- --:--:-- 1846k\n"
     ]
    },
    {
     "data": {
      "text/plain": [
       "<bound method ZipFile.close of <zipfile.ZipFile object at 0x7feca38debd0>>"
      ]
     },
     "execution_count": 54,
     "metadata": {},
     "output_type": "execute_result"
    }
   ],
   "source": [
    "!curl -O \"https://data.cityofnewyork.us/api/file_data/YObIR0MbpUVA0EpQzZSq5x55FzKGM2ejSeahdvjqR20?filename\\\n",
    "=ZIP_CODE_040114.zip\"\n",
    "os.system(\"mv YObIR0MbpUVA0EpQzZSq5x55FzKGM2ejSeahdvjqR20?filename=ZIP_CODE_040114.zip \" + os.getenv(\"PUIDATA\")) \n",
    "zf = zipfile.ZipFile(os.getenv(\"PUIDATA\") + '/' + \"YObIR0MbpUVA0EpQzZSq5x55FzKGM2ejSeahdvjqR20?filename=ZIP_CODE_040114.zip\")\n",
    "zf.extractall(os.getenv(\"PUIDATA\") + '/' + \"ZIP_CODE_040114\")\n",
    "zf.close"
   ]
  },
  {
   "cell_type": "code",
   "execution_count": null,
   "metadata": {
    "collapsed": true
   },
   "outputs": [],
   "source": []
  }
 ],
 "metadata": {
  "kernelspec": {
   "display_name": "PUI2016_Python2",
   "language": "python",
   "name": "pui2016_python2"
  },
  "language_info": {
   "codemirror_mode": {
    "name": "ipython",
    "version": 2
   },
   "file_extension": ".py",
   "mimetype": "text/x-python",
   "name": "python",
   "nbconvert_exporter": "python",
   "pygments_lexer": "ipython2",
   "version": "2.7.12"
  }
 },
 "nbformat": 4,
 "nbformat_minor": 0
}
