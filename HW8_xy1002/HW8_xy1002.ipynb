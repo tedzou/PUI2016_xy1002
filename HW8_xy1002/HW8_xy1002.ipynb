{
 "cells": [
  {
   "cell_type": "markdown",
   "metadata": {},
   "source": [
    "# Working with Data"
   ]
  },
  {
   "cell_type": "code",
   "execution_count": 310,
   "metadata": {
    "collapsed": false
   },
   "outputs": [
    {
     "name": "stdout",
     "output_type": "stream",
     "text": [
      "Populating the interactive namespace from numpy and matplotlib\n"
     ]
    }
   ],
   "source": [
    "import os\n",
    "import pandas as pd\n",
    "import numpy as np\n",
    "import re\n",
    "import pylab as pl\n",
    "\n",
    "%pylab inline\n",
    "#PUIdata = os.getenv('PUIDATA')"
   ]
  },
  {
   "cell_type": "code",
   "execution_count": 301,
   "metadata": {
    "collapsed": false
   },
   "outputs": [
    {
     "name": "stdout",
     "output_type": "stream",
     "text": [
      "['', '/Library/Frameworks/Python.framework/Versions/3.5/lib/python35.zip', '/Library/Frameworks/Python.framework/Versions/3.5/lib/python3.5', '/Library/Frameworks/Python.framework/Versions/3.5/lib/python3.5/plat-darwin', '/Library/Frameworks/Python.framework/Versions/3.5/lib/python3.5/lib-dynload', '/Library/Frameworks/Python.framework/Versions/3.5/lib/python3.5/site-packages', '/Library/Frameworks/Python.framework/Versions/3.5/lib/python3.5/site-packages/IPython/extensions', '/Users/yuxinran/.ipython']\n"
     ]
    }
   ],
   "source": [
    "import sys\n",
    "print(sys.path)"
   ]
  },
  {
   "cell_type": "markdown",
   "metadata": {},
   "source": [
    "# 1. Define a reserach question\n",
    "Which Community Districts in NYC show the highest number of complaints?\n"
   ]
  },
  {
   "cell_type": "markdown",
   "metadata": {},
   "source": [
    "# 2. Think about what data are available"
   ]
  },
  {
   "cell_type": "code",
   "execution_count": 2,
   "metadata": {
    "collapsed": false
   },
   "outputs": [],
   "source": [
    "data = pd.read_csv('https://data.cityofnewyork.us/resource/erm2-nwe9.csv')\n",
    "\n",
    "#Server is down so I used a small dataset \n",
    "#data = pd.read_csv('/projects/open/NYCOpenData/nycopendata/data/erm2-nwe9/1446832678/erm2-nwe9')"
   ]
  },
  {
   "cell_type": "code",
   "execution_count": 3,
   "metadata": {
    "collapsed": false
   },
   "outputs": [
    {
     "data": {
      "text/html": [
       "<div>\n",
       "<table border=\"1\" class=\"dataframe\">\n",
       "  <thead>\n",
       "    <tr style=\"text-align: right;\">\n",
       "      <th></th>\n",
       "      <th>Unique Key</th>\n",
       "      <th>Created Date</th>\n",
       "      <th>Closed Date</th>\n",
       "      <th>Agency</th>\n",
       "      <th>Agency Name</th>\n",
       "      <th>Complaint Type</th>\n",
       "      <th>Descriptor</th>\n",
       "      <th>Location Type</th>\n",
       "      <th>Incident Zip</th>\n",
       "      <th>Incident Address</th>\n",
       "      <th>...</th>\n",
       "      <th>Bridge Highway Name</th>\n",
       "      <th>Bridge Highway Direction</th>\n",
       "      <th>Road Ramp</th>\n",
       "      <th>Bridge Highway Segment</th>\n",
       "      <th>Garage Lot Name</th>\n",
       "      <th>Ferry Direction</th>\n",
       "      <th>Ferry Terminal Name</th>\n",
       "      <th>Latitude</th>\n",
       "      <th>Longitude</th>\n",
       "      <th>Location</th>\n",
       "    </tr>\n",
       "  </thead>\n",
       "  <tbody>\n",
       "    <tr>\n",
       "      <th>0</th>\n",
       "      <td>34779271</td>\n",
       "      <td>11/15/2016 02:12:51 AM</td>\n",
       "      <td>NaN</td>\n",
       "      <td>NYPD</td>\n",
       "      <td>New York City Police Department</td>\n",
       "      <td>Noise - Vehicle</td>\n",
       "      <td>Engine Idling</td>\n",
       "      <td>Street/Sidewalk</td>\n",
       "      <td>11374.0</td>\n",
       "      <td>NaN</td>\n",
       "      <td>...</td>\n",
       "      <td>NaN</td>\n",
       "      <td>NaN</td>\n",
       "      <td>NaN</td>\n",
       "      <td>NaN</td>\n",
       "      <td>NaN</td>\n",
       "      <td>NaN</td>\n",
       "      <td>NaN</td>\n",
       "      <td>40.725534</td>\n",
       "      <td>-73.865291</td>\n",
       "      <td>(40.725534424524405, -73.86529064656168)</td>\n",
       "    </tr>\n",
       "    <tr>\n",
       "      <th>1</th>\n",
       "      <td>34775117</td>\n",
       "      <td>11/15/2016 02:11:40 AM</td>\n",
       "      <td>NaN</td>\n",
       "      <td>NYPD</td>\n",
       "      <td>New York City Police Department</td>\n",
       "      <td>Noise - Residential</td>\n",
       "      <td>Loud Talking</td>\n",
       "      <td>Residential Building/House</td>\n",
       "      <td>10460.0</td>\n",
       "      <td>1773 VYSE AVENUE</td>\n",
       "      <td>...</td>\n",
       "      <td>NaN</td>\n",
       "      <td>NaN</td>\n",
       "      <td>NaN</td>\n",
       "      <td>NaN</td>\n",
       "      <td>NaN</td>\n",
       "      <td>NaN</td>\n",
       "      <td>NaN</td>\n",
       "      <td>40.837281</td>\n",
       "      <td>-73.885674</td>\n",
       "      <td>(40.83728097949399, -73.88567443877004)</td>\n",
       "    </tr>\n",
       "    <tr>\n",
       "      <th>2</th>\n",
       "      <td>34775418</td>\n",
       "      <td>11/15/2016 02:10:51 AM</td>\n",
       "      <td>NaN</td>\n",
       "      <td>DOHMH</td>\n",
       "      <td>Department of Health and Mental Hygiene</td>\n",
       "      <td>Rodent</td>\n",
       "      <td>Rat Sighting</td>\n",
       "      <td>3+ Family Apt. Building</td>\n",
       "      <td>10458.0</td>\n",
       "      <td>2406 LORILLARD PLACE</td>\n",
       "      <td>...</td>\n",
       "      <td>NaN</td>\n",
       "      <td>NaN</td>\n",
       "      <td>NaN</td>\n",
       "      <td>NaN</td>\n",
       "      <td>NaN</td>\n",
       "      <td>NaN</td>\n",
       "      <td>NaN</td>\n",
       "      <td>40.856651</td>\n",
       "      <td>-73.888989</td>\n",
       "      <td>(40.85665087491274, -73.8889885861798)</td>\n",
       "    </tr>\n",
       "    <tr>\n",
       "      <th>3</th>\n",
       "      <td>34771971</td>\n",
       "      <td>11/15/2016 02:09:22 AM</td>\n",
       "      <td>11/15/2016 03:08:56 AM</td>\n",
       "      <td>NYPD</td>\n",
       "      <td>New York City Police Department</td>\n",
       "      <td>Noise - Vehicle</td>\n",
       "      <td>Engine Idling</td>\n",
       "      <td>Street/Sidewalk</td>\n",
       "      <td>11372.0</td>\n",
       "      <td>86-06 35 AVENUE</td>\n",
       "      <td>...</td>\n",
       "      <td>NaN</td>\n",
       "      <td>NaN</td>\n",
       "      <td>NaN</td>\n",
       "      <td>NaN</td>\n",
       "      <td>NaN</td>\n",
       "      <td>NaN</td>\n",
       "      <td>NaN</td>\n",
       "      <td>40.752192</td>\n",
       "      <td>-73.880782</td>\n",
       "      <td>(40.7521920937822, -73.88078191435956)</td>\n",
       "    </tr>\n",
       "    <tr>\n",
       "      <th>4</th>\n",
       "      <td>34774246</td>\n",
       "      <td>11/15/2016 02:09:13 AM</td>\n",
       "      <td>NaN</td>\n",
       "      <td>DOHMH</td>\n",
       "      <td>Department of Health and Mental Hygiene</td>\n",
       "      <td>Unsanitary Animal Pvt Property</td>\n",
       "      <td>Dog</td>\n",
       "      <td>1-2 Family Dwelling</td>\n",
       "      <td>10306.0</td>\n",
       "      <td>14 CARDINAL LANE</td>\n",
       "      <td>...</td>\n",
       "      <td>NaN</td>\n",
       "      <td>NaN</td>\n",
       "      <td>NaN</td>\n",
       "      <td>NaN</td>\n",
       "      <td>NaN</td>\n",
       "      <td>NaN</td>\n",
       "      <td>NaN</td>\n",
       "      <td>40.555338</td>\n",
       "      <td>-74.141614</td>\n",
       "      <td>(40.55533827918591, -74.14161387714165)</td>\n",
       "    </tr>\n",
       "  </tbody>\n",
       "</table>\n",
       "<p>5 rows × 53 columns</p>\n",
       "</div>"
      ],
      "text/plain": [
       "   Unique Key            Created Date             Closed Date Agency  \\\n",
       "0    34779271  11/15/2016 02:12:51 AM                     NaN   NYPD   \n",
       "1    34775117  11/15/2016 02:11:40 AM                     NaN   NYPD   \n",
       "2    34775418  11/15/2016 02:10:51 AM                     NaN  DOHMH   \n",
       "3    34771971  11/15/2016 02:09:22 AM  11/15/2016 03:08:56 AM   NYPD   \n",
       "4    34774246  11/15/2016 02:09:13 AM                     NaN  DOHMH   \n",
       "\n",
       "                               Agency Name                  Complaint Type  \\\n",
       "0          New York City Police Department                 Noise - Vehicle   \n",
       "1          New York City Police Department             Noise - Residential   \n",
       "2  Department of Health and Mental Hygiene                          Rodent   \n",
       "3          New York City Police Department                 Noise - Vehicle   \n",
       "4  Department of Health and Mental Hygiene  Unsanitary Animal Pvt Property   \n",
       "\n",
       "      Descriptor               Location Type  Incident Zip  \\\n",
       "0  Engine Idling             Street/Sidewalk       11374.0   \n",
       "1   Loud Talking  Residential Building/House       10460.0   \n",
       "2   Rat Sighting     3+ Family Apt. Building       10458.0   \n",
       "3  Engine Idling             Street/Sidewalk       11372.0   \n",
       "4            Dog         1-2 Family Dwelling       10306.0   \n",
       "\n",
       "       Incident Address                    ...                     \\\n",
       "0                   NaN                    ...                      \n",
       "1      1773 VYSE AVENUE                    ...                      \n",
       "2  2406 LORILLARD PLACE                    ...                      \n",
       "3       86-06 35 AVENUE                    ...                      \n",
       "4      14 CARDINAL LANE                    ...                      \n",
       "\n",
       "  Bridge Highway Name Bridge Highway Direction Road Ramp  \\\n",
       "0                 NaN                      NaN       NaN   \n",
       "1                 NaN                      NaN       NaN   \n",
       "2                 NaN                      NaN       NaN   \n",
       "3                 NaN                      NaN       NaN   \n",
       "4                 NaN                      NaN       NaN   \n",
       "\n",
       "  Bridge Highway Segment Garage Lot Name Ferry Direction Ferry Terminal Name  \\\n",
       "0                    NaN             NaN             NaN                 NaN   \n",
       "1                    NaN             NaN             NaN                 NaN   \n",
       "2                    NaN             NaN             NaN                 NaN   \n",
       "3                    NaN             NaN             NaN                 NaN   \n",
       "4                    NaN             NaN             NaN                 NaN   \n",
       "\n",
       "    Latitude  Longitude                                  Location  \n",
       "0  40.725534 -73.865291  (40.725534424524405, -73.86529064656168)  \n",
       "1  40.837281 -73.885674   (40.83728097949399, -73.88567443877004)  \n",
       "2  40.856651 -73.888989    (40.85665087491274, -73.8889885861798)  \n",
       "3  40.752192 -73.880782    (40.7521920937822, -73.88078191435956)  \n",
       "4  40.555338 -74.141614   (40.55533827918591, -74.14161387714165)  \n",
       "\n",
       "[5 rows x 53 columns]"
      ]
     },
     "execution_count": 3,
     "metadata": {},
     "output_type": "execute_result"
    }
   ],
   "source": [
    "data.head(5)"
   ]
  },
  {
   "cell_type": "markdown",
   "metadata": {},
   "source": [
    "# 3. Think about possible measurement errors\n",
    "Do you see any problems regarding possible measurement error? Think about who is represented in the data, ommissions, duplications, content error, missing data, etc."
   ]
  },
  {
   "cell_type": "code",
   "execution_count": 169,
   "metadata": {
    "collapsed": false
   },
   "outputs": [
    {
     "data": {
      "text/plain": [
       "Index(['Unique Key', 'Created Date', 'Closed Date', 'Agency', 'Agency Name',\n",
       "       'Complaint Type', 'Descriptor', 'Location Type', 'Incident Zip',\n",
       "       'Incident Address', 'Street Name', 'Cross Street 1', 'Cross Street 2',\n",
       "       'Intersection Street 1', 'Intersection Street 2', 'Address Type',\n",
       "       'City', 'Landmark', 'Facility Type', 'Status', 'Due Date',\n",
       "       'Resolution Description', 'Resolution Action Updated Date',\n",
       "       'Community Board', 'Borough', 'X Coordinate (State Plane)',\n",
       "       'Y Coordinate (State Plane)', 'Park Facility Name', 'Park Borough',\n",
       "       'School Name', 'School Number', 'School Region', 'School Code',\n",
       "       'School Phone Number', 'School Address', 'School City', 'School State',\n",
       "       'School Zip', 'School Not Found', 'School or Citywide Complaint',\n",
       "       'Vehicle Type', 'Taxi Company Borough', 'Taxi Pick Up Location',\n",
       "       'Bridge Highway Name', 'Bridge Highway Direction', 'Road Ramp',\n",
       "       'Bridge Highway Segment', 'Garage Lot Name', 'Ferry Direction',\n",
       "       'Ferry Terminal Name', 'Latitude', 'Longitude', 'Location'],\n",
       "      dtype='object')"
      ]
     },
     "execution_count": 169,
     "metadata": {},
     "output_type": "execute_result"
    }
   ],
   "source": [
    "# Check if all Boroughs and Community Districts are represented in the Data \n",
    "data.columns"
   ]
  },
  {
   "cell_type": "code",
   "execution_count": 170,
   "metadata": {
    "collapsed": false
   },
   "outputs": [
    {
     "data": {
      "text/plain": [
       "array(['QUEENS', 'BRONX', 'STATEN ISLAND', 'MANHATTAN', 'BROOKLYN',\n",
       "       'Unspecified'], dtype=object)"
      ]
     },
     "execution_count": 170,
     "metadata": {},
     "output_type": "execute_result"
    }
   ],
   "source": [
    "data['Borough'].unique()"
   ]
  },
  {
   "cell_type": "code",
   "execution_count": 172,
   "metadata": {
    "collapsed": false
   },
   "outputs": [
    {
     "data": {
      "text/plain": [
       "array(['06 QUEENS', '03 BRONX', '06 BRONX', '03 QUEENS',\n",
       "       '03 STATEN ISLAND', 'Unspecified MANHATTAN', '06 BROOKLYN',\n",
       "       '10 MANHATTAN', '02 QUEENS', '17 BROOKLYN', '14 BROOKLYN',\n",
       "       '05 BRONX', '10 QUEENS', '09 MANHATTAN', '02 BROOKLYN',\n",
       "       '10 BROOKLYN', '04 MANHATTAN', '03 BROOKLYN', '11 BROOKLYN',\n",
       "       '05 QUEENS', '12 MANHATTAN', '03 MANHATTAN', '07 QUEENS',\n",
       "       '01 BROOKLYN', '01 BRONX', '13 BROOKLYN', '12 BROOKLYN', '07 BRONX',\n",
       "       '05 MANHATTAN', '04 BROOKLYN', '0 Unspecified', '05 BROOKLYN',\n",
       "       '08 MANHATTAN', '07 MANHATTAN', '09 QUEENS', '09 BRONX', '12 BRONX',\n",
       "       '04 BRONX', '12 QUEENS', '04 QUEENS', '15 BROOKLYN',\n",
       "       'Unspecified BROOKLYN', '11 BRONX', '01 QUEENS', '08 BROOKLYN',\n",
       "       '07 BROOKLYN', '10 BRONX', '01 MANHATTAN', '11 MANHATTAN',\n",
       "       '06 MANHATTAN', '02 MANHATTAN', '18 BROOKLYN', '13 QUEENS',\n",
       "       '08 BRONX', '02 STATEN ISLAND', 'Unspecified QUEENS', '08 QUEENS',\n",
       "       '14 QUEENS', '01 STATEN ISLAND', '09 BROOKLYN', '11 QUEENS',\n",
       "       '02 BRONX', '16 BROOKLYN', '80 QUEENS'], dtype=object)"
      ]
     },
     "execution_count": 172,
     "metadata": {},
     "output_type": "execute_result"
    }
   ],
   "source": [
    "data['Community Board'].unique()"
   ]
  },
  {
   "cell_type": "code",
   "execution_count": 177,
   "metadata": {
    "collapsed": false
   },
   "outputs": [
    {
     "data": {
      "text/plain": [
       "['0 Unspecified',\n",
       " '01 BRONX',\n",
       " '01 BROOKLYN',\n",
       " '01 MANHATTAN',\n",
       " '01 QUEENS',\n",
       " '01 STATEN ISLAND',\n",
       " '02 BRONX',\n",
       " '02 BROOKLYN',\n",
       " '02 MANHATTAN',\n",
       " '02 QUEENS',\n",
       " '02 STATEN ISLAND',\n",
       " '03 BRONX',\n",
       " '03 BROOKLYN',\n",
       " '03 MANHATTAN',\n",
       " '03 QUEENS',\n",
       " '03 STATEN ISLAND',\n",
       " '04 BRONX',\n",
       " '04 BROOKLYN',\n",
       " '04 MANHATTAN',\n",
       " '04 QUEENS',\n",
       " '05 BRONX',\n",
       " '05 BROOKLYN',\n",
       " '05 MANHATTAN',\n",
       " '05 QUEENS',\n",
       " '06 BRONX',\n",
       " '06 BROOKLYN',\n",
       " '06 MANHATTAN',\n",
       " '06 QUEENS',\n",
       " '07 BRONX',\n",
       " '07 BROOKLYN',\n",
       " '07 MANHATTAN',\n",
       " '07 QUEENS',\n",
       " '08 BRONX',\n",
       " '08 BROOKLYN',\n",
       " '08 MANHATTAN',\n",
       " '08 QUEENS',\n",
       " '09 BRONX',\n",
       " '09 BROOKLYN',\n",
       " '09 MANHATTAN',\n",
       " '09 QUEENS',\n",
       " '10 BRONX',\n",
       " '10 BROOKLYN',\n",
       " '10 MANHATTAN',\n",
       " '10 QUEENS',\n",
       " '11 BRONX',\n",
       " '11 BROOKLYN',\n",
       " '11 MANHATTAN',\n",
       " '11 QUEENS',\n",
       " '12 BRONX',\n",
       " '12 BROOKLYN',\n",
       " '12 MANHATTAN',\n",
       " '12 QUEENS',\n",
       " '13 BROOKLYN',\n",
       " '13 QUEENS',\n",
       " '14 BROOKLYN',\n",
       " '14 QUEENS',\n",
       " '15 BROOKLYN',\n",
       " '16 BROOKLYN',\n",
       " '17 BROOKLYN',\n",
       " '18 BROOKLYN',\n",
       " '80 QUEENS',\n",
       " 'Unspecified BROOKLYN',\n",
       " 'Unspecified MANHATTAN',\n",
       " 'Unspecified QUEENS']"
      ]
     },
     "execution_count": 177,
     "metadata": {},
     "output_type": "execute_result"
    }
   ],
   "source": [
    "sorted(data['Community Board'].unique())"
   ]
  },
  {
   "cell_type": "code",
   "execution_count": 175,
   "metadata": {
    "collapsed": false
   },
   "outputs": [
    {
     "name": "stdout",
     "output_type": "stream",
     "text": [
      "We have 64 unique community boards.\n"
     ]
    }
   ],
   "source": [
    "# How many unique values do we have? \n",
    "unique = len(data['Community Board'].unique())\n",
    "print(\"We have {} unique community boards.\".format(unique))"
   ]
  },
  {
   "cell_type": "code",
   "execution_count": 178,
   "metadata": {
    "collapsed": false
   },
   "outputs": [
    {
     "name": "stdout",
     "output_type": "stream",
     "text": [
      "The ratio of unspecified community board from the total is 0.05\n"
     ]
    }
   ],
   "source": [
    "# Why do we have so many? Some of them are unspecified, missing. Some might be invalid entries. \n",
    "# We should have 59 Community Districts.\n",
    "unspecified = data['Community Board'].str.contains('Unspecified|26|27|28|55|56|64|80|81|82|83|84|95').sum()\n",
    "\n",
    "Total = len(data)\n",
    "ratio = unspecified / Total\n",
    "   \n",
    "print(\"The ratio of unspecified community board from the total is %.2f\" % ratio)\n"
   ]
  },
  {
   "cell_type": "code",
   "execution_count": 182,
   "metadata": {
    "collapsed": false
   },
   "outputs": [
    {
     "name": "stdout",
     "output_type": "stream",
     "text": [
      "Total unspecified community board is 5.\n",
      "Total number of community board is 59.\n"
     ]
    }
   ],
   "source": [
    "data_u = data[data['Community Board'].str.contains('Unspecified|26|27|28|55|56|64|80|81|82|83|84|95')]\n",
    "\n",
    "Total_u = len(data_u['Community Board'].unique())\n",
    "print(\"Total unspecified community board is {}.\".format(Total_u))\n",
    "print(\"Total number of community board is {}.\".format(unique - Total_u))\n",
    "\n"
   ]
  },
  {
   "cell_type": "code",
   "execution_count": 184,
   "metadata": {
    "collapsed": false
   },
   "outputs": [
    {
     "name": "stdout",
     "output_type": "stream",
     "text": [
      "The ratio of unduplicate unique key from the total is 1.00\n"
     ]
    }
   ],
   "source": [
    "# Check for duplicates? Are these plausible?\n",
    "data_d = data.drop_duplicates(subset = 'Unique Key')\n",
    "Total_d = len(data_d)\n",
    "ratio_d = Total_d / Total\n",
    "print(\"The ratio of unduplicate unique key from the total is %.2f\" % ratio_d)\n"
   ]
  },
  {
   "cell_type": "code",
   "execution_count": 185,
   "metadata": {
    "collapsed": false
   },
   "outputs": [
    {
     "data": {
      "text/html": [
       "<div>\n",
       "<table border=\"1\" class=\"dataframe\">\n",
       "  <thead>\n",
       "    <tr style=\"text-align: right;\">\n",
       "      <th></th>\n",
       "      <th>Unique Key</th>\n",
       "      <th>Created Date</th>\n",
       "      <th>Closed Date</th>\n",
       "      <th>Agency</th>\n",
       "      <th>Agency Name</th>\n",
       "      <th>Complaint Type</th>\n",
       "      <th>Descriptor</th>\n",
       "      <th>Location Type</th>\n",
       "      <th>Incident Zip</th>\n",
       "      <th>Incident Address</th>\n",
       "      <th>...</th>\n",
       "      <th>Bridge Highway Name</th>\n",
       "      <th>Bridge Highway Direction</th>\n",
       "      <th>Road Ramp</th>\n",
       "      <th>Bridge Highway Segment</th>\n",
       "      <th>Garage Lot Name</th>\n",
       "      <th>Ferry Direction</th>\n",
       "      <th>Ferry Terminal Name</th>\n",
       "      <th>Latitude</th>\n",
       "      <th>Longitude</th>\n",
       "      <th>Location</th>\n",
       "    </tr>\n",
       "  </thead>\n",
       "  <tbody>\n",
       "  </tbody>\n",
       "</table>\n",
       "<p>0 rows × 53 columns</p>\n",
       "</div>"
      ],
      "text/plain": [
       "Empty DataFrame\n",
       "Columns: [Unique Key, Created Date, Closed Date, Agency, Agency Name, Complaint Type, Descriptor, Location Type, Incident Zip, Incident Address, Street Name, Cross Street 1, Cross Street 2, Intersection Street 1, Intersection Street 2, Address Type, City, Landmark, Facility Type, Status, Due Date, Resolution Description, Resolution Action Updated Date, Community Board, Borough, X Coordinate (State Plane), Y Coordinate (State Plane), Park Facility Name, Park Borough, School Name, School Number, School Region, School Code, School Phone Number, School Address, School City, School State, School Zip, School Not Found, School or Citywide Complaint, Vehicle Type, Taxi Company Borough, Taxi Pick Up Location, Bridge Highway Name, Bridge Highway Direction, Road Ramp, Bridge Highway Segment, Garage Lot Name, Ferry Direction, Ferry Terminal Name, Latitude, Longitude, Location]\n",
       "Index: []\n",
       "\n",
       "[0 rows x 53 columns]"
      ]
     },
     "execution_count": 185,
     "metadata": {},
     "output_type": "execute_result"
    }
   ],
   "source": [
    "data[data.duplicated()]"
   ]
  },
  {
   "cell_type": "code",
   "execution_count": 186,
   "metadata": {
    "collapsed": false
   },
   "outputs": [
    {
     "data": {
      "text/plain": [
       "Unique Key                           0\n",
       "Created Date                         0\n",
       "Closed Date                        609\n",
       "Agency                               0\n",
       "Agency Name                          0\n",
       "Complaint Type                       0\n",
       "Descriptor                          19\n",
       "Location Type                      151\n",
       "Incident Zip                        44\n",
       "Incident Address                   131\n",
       "Street Name                        131\n",
       "Cross Street 1                     370\n",
       "Cross Street 2                     371\n",
       "Intersection Street 1              903\n",
       "Intersection Street 2              904\n",
       "Address Type                        40\n",
       "City                                44\n",
       "Landmark                          1000\n",
       "Facility Type                      488\n",
       "Status                               0\n",
       "Due Date                           352\n",
       "Resolution Description             113\n",
       "Resolution Action Updated Date     268\n",
       "Community Board                      0\n",
       "Borough                              0\n",
       "X Coordinate (State Plane)          56\n",
       "Y Coordinate (State Plane)          56\n",
       "Park Facility Name                   0\n",
       "Park Borough                         0\n",
       "School Name                          0\n",
       "School Number                        0\n",
       "School Region                        7\n",
       "School Code                          7\n",
       "School Phone Number                  0\n",
       "School Address                       0\n",
       "School City                          0\n",
       "School State                         0\n",
       "School Zip                           0\n",
       "School Not Found                   352\n",
       "School or Citywide Complaint      1000\n",
       "Vehicle Type                      1000\n",
       "Taxi Company Borough               999\n",
       "Taxi Pick Up Location              996\n",
       "Bridge Highway Name                998\n",
       "Bridge Highway Direction           998\n",
       "Road Ramp                          998\n",
       "Bridge Highway Segment             994\n",
       "Garage Lot Name                   1000\n",
       "Ferry Direction                   1000\n",
       "Ferry Terminal Name               1000\n",
       "Latitude                            56\n",
       "Longitude                           56\n",
       "Location                            56\n",
       "dtype: int64"
      ]
     },
     "execution_count": 186,
     "metadata": {},
     "output_type": "execute_result"
    }
   ],
   "source": [
    "# What about missing values? Can you detect any patterns?\n",
    "data_d.isnull().sum()"
   ]
  },
  {
   "cell_type": "code",
   "execution_count": 187,
   "metadata": {
    "collapsed": false
   },
   "outputs": [],
   "source": [
    "# Data Editing: Is it possible to replace missing values? Is it possible to use Complaint Type \n",
    "# to fill missings in Resolution Descriptor?\n",
    "data_d['Resolution Description'].fillna(data_d['Complaint Type'],inplace = 1)"
   ]
  },
  {
   "cell_type": "code",
   "execution_count": 188,
   "metadata": {
    "collapsed": false
   },
   "outputs": [
    {
     "data": {
      "text/plain": [
       "0"
      ]
     },
     "execution_count": 188,
     "metadata": {},
     "output_type": "execute_result"
    }
   ],
   "source": [
    "# What about missing values? Can you detect any patterns? \n",
    "data_d['Resolution Description'].isnull().sum()"
   ]
  },
  {
   "cell_type": "code",
   "execution_count": 189,
   "metadata": {
    "collapsed": false
   },
   "outputs": [],
   "source": [
    "# Generate marker for unplausible Community Districts\n",
    "# How do these districts look like? \n",
    "data_d['marker'] = data_d['Community Board'].str.contains('Unspecified|26|27|28|55|56|64|80|81|82|83|84|95')\n"
   ]
  },
  {
   "cell_type": "code",
   "execution_count": 190,
   "metadata": {
    "collapsed": true
   },
   "outputs": [],
   "source": [
    "# Drop the marked districts\n",
    "data_2 = data_d[data_d['marker'] == False]"
   ]
  },
  {
   "cell_type": "code",
   "execution_count": 192,
   "metadata": {
    "collapsed": false
   },
   "outputs": [
    {
     "data": {
      "text/html": [
       "<div>\n",
       "<table border=\"1\" class=\"dataframe\">\n",
       "  <thead>\n",
       "    <tr style=\"text-align: right;\">\n",
       "      <th></th>\n",
       "      <th>Unique Key</th>\n",
       "      <th>Created Date</th>\n",
       "      <th>Closed Date</th>\n",
       "      <th>Agency</th>\n",
       "      <th>Agency Name</th>\n",
       "      <th>Complaint Type</th>\n",
       "      <th>Descriptor</th>\n",
       "      <th>Location Type</th>\n",
       "      <th>Incident Zip</th>\n",
       "      <th>Incident Address</th>\n",
       "      <th>...</th>\n",
       "      <th>Bridge Highway Direction</th>\n",
       "      <th>Road Ramp</th>\n",
       "      <th>Bridge Highway Segment</th>\n",
       "      <th>Garage Lot Name</th>\n",
       "      <th>Ferry Direction</th>\n",
       "      <th>Ferry Terminal Name</th>\n",
       "      <th>Latitude</th>\n",
       "      <th>Longitude</th>\n",
       "      <th>Location</th>\n",
       "      <th>marker</th>\n",
       "    </tr>\n",
       "  </thead>\n",
       "  <tbody>\n",
       "    <tr>\n",
       "      <th>0</th>\n",
       "      <td>34779271</td>\n",
       "      <td>11/15/2016 02:12:51 AM</td>\n",
       "      <td>NaN</td>\n",
       "      <td>NYPD</td>\n",
       "      <td>New York City Police Department</td>\n",
       "      <td>Noise - Vehicle</td>\n",
       "      <td>Engine Idling</td>\n",
       "      <td>Street/Sidewalk</td>\n",
       "      <td>11374.0</td>\n",
       "      <td>NaN</td>\n",
       "      <td>...</td>\n",
       "      <td>NaN</td>\n",
       "      <td>NaN</td>\n",
       "      <td>NaN</td>\n",
       "      <td>NaN</td>\n",
       "      <td>NaN</td>\n",
       "      <td>NaN</td>\n",
       "      <td>40.725534</td>\n",
       "      <td>-73.865291</td>\n",
       "      <td>(40.725534424524405, -73.86529064656168)</td>\n",
       "      <td>False</td>\n",
       "    </tr>\n",
       "    <tr>\n",
       "      <th>1</th>\n",
       "      <td>34775117</td>\n",
       "      <td>11/15/2016 02:11:40 AM</td>\n",
       "      <td>NaN</td>\n",
       "      <td>NYPD</td>\n",
       "      <td>New York City Police Department</td>\n",
       "      <td>Noise - Residential</td>\n",
       "      <td>Loud Talking</td>\n",
       "      <td>Residential Building/House</td>\n",
       "      <td>10460.0</td>\n",
       "      <td>1773 VYSE AVENUE</td>\n",
       "      <td>...</td>\n",
       "      <td>NaN</td>\n",
       "      <td>NaN</td>\n",
       "      <td>NaN</td>\n",
       "      <td>NaN</td>\n",
       "      <td>NaN</td>\n",
       "      <td>NaN</td>\n",
       "      <td>40.837281</td>\n",
       "      <td>-73.885674</td>\n",
       "      <td>(40.83728097949399, -73.88567443877004)</td>\n",
       "      <td>False</td>\n",
       "    </tr>\n",
       "    <tr>\n",
       "      <th>2</th>\n",
       "      <td>34775418</td>\n",
       "      <td>11/15/2016 02:10:51 AM</td>\n",
       "      <td>NaN</td>\n",
       "      <td>DOHMH</td>\n",
       "      <td>Department of Health and Mental Hygiene</td>\n",
       "      <td>Rodent</td>\n",
       "      <td>Rat Sighting</td>\n",
       "      <td>3+ Family Apt. Building</td>\n",
       "      <td>10458.0</td>\n",
       "      <td>2406 LORILLARD PLACE</td>\n",
       "      <td>...</td>\n",
       "      <td>NaN</td>\n",
       "      <td>NaN</td>\n",
       "      <td>NaN</td>\n",
       "      <td>NaN</td>\n",
       "      <td>NaN</td>\n",
       "      <td>NaN</td>\n",
       "      <td>40.856651</td>\n",
       "      <td>-73.888989</td>\n",
       "      <td>(40.85665087491274, -73.8889885861798)</td>\n",
       "      <td>False</td>\n",
       "    </tr>\n",
       "    <tr>\n",
       "      <th>3</th>\n",
       "      <td>34771971</td>\n",
       "      <td>11/15/2016 02:09:22 AM</td>\n",
       "      <td>11/15/2016 03:08:56 AM</td>\n",
       "      <td>NYPD</td>\n",
       "      <td>New York City Police Department</td>\n",
       "      <td>Noise - Vehicle</td>\n",
       "      <td>Engine Idling</td>\n",
       "      <td>Street/Sidewalk</td>\n",
       "      <td>11372.0</td>\n",
       "      <td>86-06 35 AVENUE</td>\n",
       "      <td>...</td>\n",
       "      <td>NaN</td>\n",
       "      <td>NaN</td>\n",
       "      <td>NaN</td>\n",
       "      <td>NaN</td>\n",
       "      <td>NaN</td>\n",
       "      <td>NaN</td>\n",
       "      <td>40.752192</td>\n",
       "      <td>-73.880782</td>\n",
       "      <td>(40.7521920937822, -73.88078191435956)</td>\n",
       "      <td>False</td>\n",
       "    </tr>\n",
       "    <tr>\n",
       "      <th>4</th>\n",
       "      <td>34774246</td>\n",
       "      <td>11/15/2016 02:09:13 AM</td>\n",
       "      <td>NaN</td>\n",
       "      <td>DOHMH</td>\n",
       "      <td>Department of Health and Mental Hygiene</td>\n",
       "      <td>Unsanitary Animal Pvt Property</td>\n",
       "      <td>Dog</td>\n",
       "      <td>1-2 Family Dwelling</td>\n",
       "      <td>10306.0</td>\n",
       "      <td>14 CARDINAL LANE</td>\n",
       "      <td>...</td>\n",
       "      <td>NaN</td>\n",
       "      <td>NaN</td>\n",
       "      <td>NaN</td>\n",
       "      <td>NaN</td>\n",
       "      <td>NaN</td>\n",
       "      <td>NaN</td>\n",
       "      <td>40.555338</td>\n",
       "      <td>-74.141614</td>\n",
       "      <td>(40.55533827918591, -74.14161387714165)</td>\n",
       "      <td>False</td>\n",
       "    </tr>\n",
       "  </tbody>\n",
       "</table>\n",
       "<p>5 rows × 54 columns</p>\n",
       "</div>"
      ],
      "text/plain": [
       "   Unique Key            Created Date             Closed Date Agency  \\\n",
       "0    34779271  11/15/2016 02:12:51 AM                     NaN   NYPD   \n",
       "1    34775117  11/15/2016 02:11:40 AM                     NaN   NYPD   \n",
       "2    34775418  11/15/2016 02:10:51 AM                     NaN  DOHMH   \n",
       "3    34771971  11/15/2016 02:09:22 AM  11/15/2016 03:08:56 AM   NYPD   \n",
       "4    34774246  11/15/2016 02:09:13 AM                     NaN  DOHMH   \n",
       "\n",
       "                               Agency Name                  Complaint Type  \\\n",
       "0          New York City Police Department                 Noise - Vehicle   \n",
       "1          New York City Police Department             Noise - Residential   \n",
       "2  Department of Health and Mental Hygiene                          Rodent   \n",
       "3          New York City Police Department                 Noise - Vehicle   \n",
       "4  Department of Health and Mental Hygiene  Unsanitary Animal Pvt Property   \n",
       "\n",
       "      Descriptor               Location Type  Incident Zip  \\\n",
       "0  Engine Idling             Street/Sidewalk       11374.0   \n",
       "1   Loud Talking  Residential Building/House       10460.0   \n",
       "2   Rat Sighting     3+ Family Apt. Building       10458.0   \n",
       "3  Engine Idling             Street/Sidewalk       11372.0   \n",
       "4            Dog         1-2 Family Dwelling       10306.0   \n",
       "\n",
       "       Incident Address  ...   Bridge Highway Direction Road Ramp  \\\n",
       "0                   NaN  ...                        NaN       NaN   \n",
       "1      1773 VYSE AVENUE  ...                        NaN       NaN   \n",
       "2  2406 LORILLARD PLACE  ...                        NaN       NaN   \n",
       "3       86-06 35 AVENUE  ...                        NaN       NaN   \n",
       "4      14 CARDINAL LANE  ...                        NaN       NaN   \n",
       "\n",
       "  Bridge Highway Segment Garage Lot Name Ferry Direction Ferry Terminal Name  \\\n",
       "0                    NaN             NaN             NaN                 NaN   \n",
       "1                    NaN             NaN             NaN                 NaN   \n",
       "2                    NaN             NaN             NaN                 NaN   \n",
       "3                    NaN             NaN             NaN                 NaN   \n",
       "4                    NaN             NaN             NaN                 NaN   \n",
       "\n",
       "    Latitude  Longitude                                  Location marker  \n",
       "0  40.725534 -73.865291  (40.725534424524405, -73.86529064656168)  False  \n",
       "1  40.837281 -73.885674   (40.83728097949399, -73.88567443877004)  False  \n",
       "2  40.856651 -73.888989    (40.85665087491274, -73.8889885861798)  False  \n",
       "3  40.752192 -73.880782    (40.7521920937822, -73.88078191435956)  False  \n",
       "4  40.555338 -74.141614   (40.55533827918591, -74.14161387714165)  False  \n",
       "\n",
       "[5 rows x 54 columns]"
      ]
     },
     "execution_count": 192,
     "metadata": {},
     "output_type": "execute_result"
    }
   ],
   "source": [
    "data_2.head()"
   ]
  },
  {
   "cell_type": "code",
   "execution_count": 225,
   "metadata": {
    "collapsed": false
   },
   "outputs": [],
   "source": [
    "# Produce your result: Generate an indicator which ranks the Community District by complaint numbers \n",
    "# on the Community district level\n",
    "data_3 = data_2['Complaint Type'].groupby(data_2['Community Board']).count()"
   ]
  },
  {
   "cell_type": "code",
   "execution_count": 226,
   "metadata": {
    "collapsed": false
   },
   "outputs": [
    {
     "name": "stderr",
     "output_type": "stream",
     "text": [
      "/Library/Frameworks/Python.framework/Versions/3.5/lib/python3.5/site-packages/ipykernel/__main__.py:5: FutureWarning: sort(columns=....) is deprecated, use sort_values(by=.....)\n"
     ]
    },
    {
     "data": {
      "text/html": [
       "<div>\n",
       "<table border=\"1\" class=\"dataframe\">\n",
       "  <thead>\n",
       "    <tr style=\"text-align: right;\">\n",
       "      <th></th>\n",
       "      <th>Complaint Count</th>\n",
       "    </tr>\n",
       "  </thead>\n",
       "  <tbody>\n",
       "    <tr>\n",
       "      <th>08 MANHATTAN</th>\n",
       "      <td>31</td>\n",
       "    </tr>\n",
       "    <tr>\n",
       "      <th>12 MANHATTAN</th>\n",
       "      <td>30</td>\n",
       "    </tr>\n",
       "    <tr>\n",
       "      <th>01 QUEENS</th>\n",
       "      <td>29</td>\n",
       "    </tr>\n",
       "    <tr>\n",
       "      <th>11 BROOKLYN</th>\n",
       "      <td>29</td>\n",
       "    </tr>\n",
       "    <tr>\n",
       "      <th>01 BROOKLYN</th>\n",
       "      <td>27</td>\n",
       "    </tr>\n",
       "    <tr>\n",
       "      <th>04 BRONX</th>\n",
       "      <td>27</td>\n",
       "    </tr>\n",
       "    <tr>\n",
       "      <th>12 BRONX</th>\n",
       "      <td>26</td>\n",
       "    </tr>\n",
       "    <tr>\n",
       "      <th>07 BRONX</th>\n",
       "      <td>25</td>\n",
       "    </tr>\n",
       "    <tr>\n",
       "      <th>10 BROOKLYN</th>\n",
       "      <td>25</td>\n",
       "    </tr>\n",
       "    <tr>\n",
       "      <th>09 MANHATTAN</th>\n",
       "      <td>24</td>\n",
       "    </tr>\n",
       "    <tr>\n",
       "      <th>06 MANHATTAN</th>\n",
       "      <td>23</td>\n",
       "    </tr>\n",
       "    <tr>\n",
       "      <th>01 BRONX</th>\n",
       "      <td>22</td>\n",
       "    </tr>\n",
       "    <tr>\n",
       "      <th>12 BROOKLYN</th>\n",
       "      <td>22</td>\n",
       "    </tr>\n",
       "    <tr>\n",
       "      <th>03 BROOKLYN</th>\n",
       "      <td>22</td>\n",
       "    </tr>\n",
       "    <tr>\n",
       "      <th>03 MANHATTAN</th>\n",
       "      <td>21</td>\n",
       "    </tr>\n",
       "    <tr>\n",
       "      <th>04 MANHATTAN</th>\n",
       "      <td>21</td>\n",
       "    </tr>\n",
       "    <tr>\n",
       "      <th>02 QUEENS</th>\n",
       "      <td>20</td>\n",
       "    </tr>\n",
       "    <tr>\n",
       "      <th>02 BROOKLYN</th>\n",
       "      <td>20</td>\n",
       "    </tr>\n",
       "    <tr>\n",
       "      <th>09 BRONX</th>\n",
       "      <td>20</td>\n",
       "    </tr>\n",
       "    <tr>\n",
       "      <th>05 BRONX</th>\n",
       "      <td>20</td>\n",
       "    </tr>\n",
       "    <tr>\n",
       "      <th>14 BROOKLYN</th>\n",
       "      <td>20</td>\n",
       "    </tr>\n",
       "    <tr>\n",
       "      <th>10 MANHATTAN</th>\n",
       "      <td>19</td>\n",
       "    </tr>\n",
       "    <tr>\n",
       "      <th>07 MANHATTAN</th>\n",
       "      <td>19</td>\n",
       "    </tr>\n",
       "    <tr>\n",
       "      <th>09 QUEENS</th>\n",
       "      <td>18</td>\n",
       "    </tr>\n",
       "    <tr>\n",
       "      <th>06 BRONX</th>\n",
       "      <td>17</td>\n",
       "    </tr>\n",
       "    <tr>\n",
       "      <th>17 BROOKLYN</th>\n",
       "      <td>17</td>\n",
       "    </tr>\n",
       "    <tr>\n",
       "      <th>07 BROOKLYN</th>\n",
       "      <td>17</td>\n",
       "    </tr>\n",
       "    <tr>\n",
       "      <th>01 STATEN ISLAND</th>\n",
       "      <td>17</td>\n",
       "    </tr>\n",
       "    <tr>\n",
       "      <th>04 QUEENS</th>\n",
       "      <td>17</td>\n",
       "    </tr>\n",
       "    <tr>\n",
       "      <th>15 BROOKLYN</th>\n",
       "      <td>16</td>\n",
       "    </tr>\n",
       "    <tr>\n",
       "      <th>02 MANHATTAN</th>\n",
       "      <td>16</td>\n",
       "    </tr>\n",
       "    <tr>\n",
       "      <th>08 BROOKLYN</th>\n",
       "      <td>16</td>\n",
       "    </tr>\n",
       "    <tr>\n",
       "      <th>11 MANHATTAN</th>\n",
       "      <td>16</td>\n",
       "    </tr>\n",
       "    <tr>\n",
       "      <th>05 MANHATTAN</th>\n",
       "      <td>15</td>\n",
       "    </tr>\n",
       "    <tr>\n",
       "      <th>07 QUEENS</th>\n",
       "      <td>15</td>\n",
       "    </tr>\n",
       "    <tr>\n",
       "      <th>08 QUEENS</th>\n",
       "      <td>15</td>\n",
       "    </tr>\n",
       "    <tr>\n",
       "      <th>18 BROOKLYN</th>\n",
       "      <td>13</td>\n",
       "    </tr>\n",
       "    <tr>\n",
       "      <th>05 QUEENS</th>\n",
       "      <td>13</td>\n",
       "    </tr>\n",
       "    <tr>\n",
       "      <th>08 BRONX</th>\n",
       "      <td>13</td>\n",
       "    </tr>\n",
       "    <tr>\n",
       "      <th>11 BRONX</th>\n",
       "      <td>12</td>\n",
       "    </tr>\n",
       "    <tr>\n",
       "      <th>04 BROOKLYN</th>\n",
       "      <td>12</td>\n",
       "    </tr>\n",
       "    <tr>\n",
       "      <th>05 BROOKLYN</th>\n",
       "      <td>12</td>\n",
       "    </tr>\n",
       "    <tr>\n",
       "      <th>12 QUEENS</th>\n",
       "      <td>12</td>\n",
       "    </tr>\n",
       "    <tr>\n",
       "      <th>13 QUEENS</th>\n",
       "      <td>11</td>\n",
       "    </tr>\n",
       "    <tr>\n",
       "      <th>09 BROOKLYN</th>\n",
       "      <td>11</td>\n",
       "    </tr>\n",
       "    <tr>\n",
       "      <th>03 QUEENS</th>\n",
       "      <td>10</td>\n",
       "    </tr>\n",
       "    <tr>\n",
       "      <th>06 BROOKLYN</th>\n",
       "      <td>9</td>\n",
       "    </tr>\n",
       "    <tr>\n",
       "      <th>06 QUEENS</th>\n",
       "      <td>9</td>\n",
       "    </tr>\n",
       "    <tr>\n",
       "      <th>03 BRONX</th>\n",
       "      <td>8</td>\n",
       "    </tr>\n",
       "    <tr>\n",
       "      <th>10 QUEENS</th>\n",
       "      <td>8</td>\n",
       "    </tr>\n",
       "    <tr>\n",
       "      <th>14 QUEENS</th>\n",
       "      <td>7</td>\n",
       "    </tr>\n",
       "    <tr>\n",
       "      <th>01 MANHATTAN</th>\n",
       "      <td>7</td>\n",
       "    </tr>\n",
       "    <tr>\n",
       "      <th>03 STATEN ISLAND</th>\n",
       "      <td>6</td>\n",
       "    </tr>\n",
       "    <tr>\n",
       "      <th>13 BROOKLYN</th>\n",
       "      <td>6</td>\n",
       "    </tr>\n",
       "    <tr>\n",
       "      <th>02 STATEN ISLAND</th>\n",
       "      <td>6</td>\n",
       "    </tr>\n",
       "    <tr>\n",
       "      <th>11 QUEENS</th>\n",
       "      <td>5</td>\n",
       "    </tr>\n",
       "    <tr>\n",
       "      <th>10 BRONX</th>\n",
       "      <td>3</td>\n",
       "    </tr>\n",
       "    <tr>\n",
       "      <th>02 BRONX</th>\n",
       "      <td>3</td>\n",
       "    </tr>\n",
       "    <tr>\n",
       "      <th>16 BROOKLYN</th>\n",
       "      <td>2</td>\n",
       "    </tr>\n",
       "  </tbody>\n",
       "</table>\n",
       "</div>"
      ],
      "text/plain": [
       "                  Complaint Count\n",
       "08 MANHATTAN                   31\n",
       "12 MANHATTAN                   30\n",
       "01 QUEENS                      29\n",
       "11 BROOKLYN                    29\n",
       "01 BROOKLYN                    27\n",
       "04 BRONX                       27\n",
       "12 BRONX                       26\n",
       "07 BRONX                       25\n",
       "10 BROOKLYN                    25\n",
       "09 MANHATTAN                   24\n",
       "06 MANHATTAN                   23\n",
       "01 BRONX                       22\n",
       "12 BROOKLYN                    22\n",
       "03 BROOKLYN                    22\n",
       "03 MANHATTAN                   21\n",
       "04 MANHATTAN                   21\n",
       "02 QUEENS                      20\n",
       "02 BROOKLYN                    20\n",
       "09 BRONX                       20\n",
       "05 BRONX                       20\n",
       "14 BROOKLYN                    20\n",
       "10 MANHATTAN                   19\n",
       "07 MANHATTAN                   19\n",
       "09 QUEENS                      18\n",
       "06 BRONX                       17\n",
       "17 BROOKLYN                    17\n",
       "07 BROOKLYN                    17\n",
       "01 STATEN ISLAND               17\n",
       "04 QUEENS                      17\n",
       "15 BROOKLYN                    16\n",
       "02 MANHATTAN                   16\n",
       "08 BROOKLYN                    16\n",
       "11 MANHATTAN                   16\n",
       "05 MANHATTAN                   15\n",
       "07 QUEENS                      15\n",
       "08 QUEENS                      15\n",
       "18 BROOKLYN                    13\n",
       "05 QUEENS                      13\n",
       "08 BRONX                       13\n",
       "11 BRONX                       12\n",
       "04 BROOKLYN                    12\n",
       "05 BROOKLYN                    12\n",
       "12 QUEENS                      12\n",
       "13 QUEENS                      11\n",
       "09 BROOKLYN                    11\n",
       "03 QUEENS                      10\n",
       "06 BROOKLYN                     9\n",
       "06 QUEENS                       9\n",
       "03 BRONX                        8\n",
       "10 QUEENS                       8\n",
       "14 QUEENS                       7\n",
       "01 MANHATTAN                    7\n",
       "03 STATEN ISLAND                6\n",
       "13 BROOKLYN                     6\n",
       "02 STATEN ISLAND                6\n",
       "11 QUEENS                       5\n",
       "10 BRONX                        3\n",
       "02 BRONX                        3\n",
       "16 BROOKLYN                     2"
      ]
     },
     "execution_count": 226,
     "metadata": {},
     "output_type": "execute_result"
    }
   ],
   "source": [
    "# Safe reduced data frame (Community District level)\n",
    "complaint = pd.DataFrame(data_3)\n",
    "complaint.rename(columns={'Complaint Type': 'Complaint Count'}, inplace=True)\n",
    "del complaint.index.name\n",
    "complaint.sort(['Complaint Count'], ascending = 0)"
   ]
  },
  {
   "cell_type": "markdown",
   "metadata": {},
   "source": [
    "# 4. Think about the interpretation of your results?"
   ]
  },
  {
   "cell_type": "markdown",
   "metadata": {},
   "source": [
    "What do you have to keep in mind when interpreting your results? Are they generable? Does the way the data is collected influence your results? To better inform city agancies it might be good to explore in more detail the underlying dempgraphics/infrastructure of a Community District becasue this might influence 311 calls. You can do this by merging external data on the Community District level to your analysis data."
   ]
  },
  {
   "cell_type": "code",
   "execution_count": 5,
   "metadata": {
    "collapsed": true
   },
   "outputs": [],
   "source": [
    "# Population by Community District\n",
    "df_pop = pd.read_csv('http://cosmo.nyu.edu/~fb55/PUI2016/data/Final_Demographics.csv')"
   ]
  },
  {
   "cell_type": "code",
   "execution_count": 6,
   "metadata": {
    "collapsed": false
   },
   "outputs": [
    {
     "data": {
      "text/plain": [
       "(59, 158)"
      ]
     },
     "execution_count": 6,
     "metadata": {},
     "output_type": "execute_result"
    }
   ],
   "source": [
    "df_pop.shape"
   ]
  },
  {
   "cell_type": "code",
   "execution_count": 7,
   "metadata": {
    "collapsed": false
   },
   "outputs": [
    {
     "data": {
      "text/html": [
       "<div>\n",
       "<table border=\"1\" class=\"dataframe\">\n",
       "  <thead>\n",
       "    <tr style=\"text-align: right;\">\n",
       "      <th></th>\n",
       "      <th>FIPS</th>\n",
       "      <th>cd_id</th>\n",
       "      <th>Total Population</th>\n",
       "      <th>Population Density (per sq. mile)</th>\n",
       "      <th>% Total Population: Male</th>\n",
       "      <th>% Total Population: 18 to 24 Years</th>\n",
       "      <th>% Total Population: 25 to 34 Years</th>\n",
       "      <th>% Total Population: 35 to 44 Years</th>\n",
       "      <th>% Population 5 Years And Over: Speak Only English</th>\n",
       "      <th>% Population 5 Years And Over: Spanish or Spanish Creole</th>\n",
       "      <th>...</th>\n",
       "      <th>Employed Civilian Population 16 Years And Over: Production, transportation, and material moving  occupations: Production occupations</th>\n",
       "      <th>Employed Civilian Population 16 Years And Over: Production, transportation, and material moving  occupations: Transportation and material moving occupations</th>\n",
       "      <th>% Employed Civilian Population 16 Years And Over: Management, professional, and related occupations</th>\n",
       "      <th>% Employed Civilian Population 16 Years And Over: Service occupations</th>\n",
       "      <th>% Employed Civilian Population 16 Years And Over: Sales and office occupations</th>\n",
       "      <th>% Employed Civilian Population 16 Years And Over: Farming, fishing, and forestry occupations</th>\n",
       "      <th>% Employed Civilian Population 16 Years And Over: Construction, extraction, and maintenance  occupations</th>\n",
       "      <th>% Employed Civilian Population 16 Years And Over: Production, transportation, and material moving  occupations</th>\n",
       "      <th>% Employed Civilian Population 16 Years And Over: Production, transportation, and material moving  occupations: Production occupations</th>\n",
       "      <th>% Employed Civilian Population 16 Years And Over: Production, transportation, and material moving  occupations: Transportation and material moving occupations</th>\n",
       "    </tr>\n",
       "  </thead>\n",
       "  <tbody>\n",
       "    <tr>\n",
       "      <th>0</th>\n",
       "      <td>3603701</td>\n",
       "      <td>BX08</td>\n",
       "      <td>106737</td>\n",
       "      <td>31229.95006</td>\n",
       "      <td>46.65</td>\n",
       "      <td>10.73</td>\n",
       "      <td>15.04</td>\n",
       "      <td>11.32</td>\n",
       "      <td>46.80</td>\n",
       "      <td>39.24</td>\n",
       "      <td>...</td>\n",
       "      <td>665</td>\n",
       "      <td>1518</td>\n",
       "      <td>42.66</td>\n",
       "      <td>28.95</td>\n",
       "      <td>20.89</td>\n",
       "      <td>0.24</td>\n",
       "      <td>2.65</td>\n",
       "      <td>4.60</td>\n",
       "      <td>1.40</td>\n",
       "      <td>3.20</td>\n",
       "    </tr>\n",
       "    <tr>\n",
       "      <th>1</th>\n",
       "      <td>3603702</td>\n",
       "      <td>BX12</td>\n",
       "      <td>134644</td>\n",
       "      <td>19966.67839</td>\n",
       "      <td>46.35</td>\n",
       "      <td>11.35</td>\n",
       "      <td>14.29</td>\n",
       "      <td>12.57</td>\n",
       "      <td>73.09</td>\n",
       "      <td>18.19</td>\n",
       "      <td>...</td>\n",
       "      <td>1156</td>\n",
       "      <td>4174</td>\n",
       "      <td>29.57</td>\n",
       "      <td>33.98</td>\n",
       "      <td>20.40</td>\n",
       "      <td>0.00</td>\n",
       "      <td>7.08</td>\n",
       "      <td>8.97</td>\n",
       "      <td>1.95</td>\n",
       "      <td>7.02</td>\n",
       "    </tr>\n",
       "    <tr>\n",
       "      <th>2</th>\n",
       "      <td>3603703</td>\n",
       "      <td>BX10</td>\n",
       "      <td>121209</td>\n",
       "      <td>12913.81703</td>\n",
       "      <td>45.20</td>\n",
       "      <td>8.62</td>\n",
       "      <td>13.74</td>\n",
       "      <td>12.78</td>\n",
       "      <td>61.79</td>\n",
       "      <td>26.43</td>\n",
       "      <td>...</td>\n",
       "      <td>941</td>\n",
       "      <td>3433</td>\n",
       "      <td>36.20</td>\n",
       "      <td>22.85</td>\n",
       "      <td>25.09</td>\n",
       "      <td>0.00</td>\n",
       "      <td>7.68</td>\n",
       "      <td>8.18</td>\n",
       "      <td>1.76</td>\n",
       "      <td>6.42</td>\n",
       "    </tr>\n",
       "    <tr>\n",
       "      <th>3</th>\n",
       "      <td>3603704</td>\n",
       "      <td>BX11</td>\n",
       "      <td>135839</td>\n",
       "      <td>35677.95453</td>\n",
       "      <td>50.09</td>\n",
       "      <td>8.10</td>\n",
       "      <td>17.43</td>\n",
       "      <td>14.09</td>\n",
       "      <td>43.22</td>\n",
       "      <td>36.45</td>\n",
       "      <td>...</td>\n",
       "      <td>2189</td>\n",
       "      <td>5592</td>\n",
       "      <td>30.06</td>\n",
       "      <td>27.86</td>\n",
       "      <td>22.24</td>\n",
       "      <td>0.00</td>\n",
       "      <td>7.03</td>\n",
       "      <td>12.81</td>\n",
       "      <td>3.60</td>\n",
       "      <td>9.20</td>\n",
       "    </tr>\n",
       "    <tr>\n",
       "      <th>4</th>\n",
       "      <td>3603705</td>\n",
       "      <td>BX03</td>\n",
       "      <td>172247</td>\n",
       "      <td>39405.79222</td>\n",
       "      <td>44.72</td>\n",
       "      <td>14.24</td>\n",
       "      <td>14.89</td>\n",
       "      <td>12.38</td>\n",
       "      <td>36.82</td>\n",
       "      <td>54.24</td>\n",
       "      <td>...</td>\n",
       "      <td>1437</td>\n",
       "      <td>5436</td>\n",
       "      <td>16.80</td>\n",
       "      <td>41.00</td>\n",
       "      <td>22.29</td>\n",
       "      <td>0.03</td>\n",
       "      <td>8.45</td>\n",
       "      <td>11.43</td>\n",
       "      <td>2.39</td>\n",
       "      <td>9.04</td>\n",
       "    </tr>\n",
       "  </tbody>\n",
       "</table>\n",
       "<p>5 rows × 158 columns</p>\n",
       "</div>"
      ],
      "text/plain": [
       "      FIPS cd_id  Total Population  Population Density (per sq. mile)  \\\n",
       "0  3603701  BX08            106737                        31229.95006   \n",
       "1  3603702  BX12            134644                        19966.67839   \n",
       "2  3603703  BX10            121209                        12913.81703   \n",
       "3  3603704  BX11            135839                        35677.95453   \n",
       "4  3603705  BX03            172247                        39405.79222   \n",
       "\n",
       "   % Total Population: Male  % Total Population: 18 to 24 Years  \\\n",
       "0                     46.65                               10.73   \n",
       "1                     46.35                               11.35   \n",
       "2                     45.20                                8.62   \n",
       "3                     50.09                                8.10   \n",
       "4                     44.72                               14.24   \n",
       "\n",
       "   % Total Population: 25 to 34 Years  % Total Population: 35 to 44 Years  \\\n",
       "0                               15.04                               11.32   \n",
       "1                               14.29                               12.57   \n",
       "2                               13.74                               12.78   \n",
       "3                               17.43                               14.09   \n",
       "4                               14.89                               12.38   \n",
       "\n",
       "   % Population 5 Years And Over: Speak Only English  \\\n",
       "0                                              46.80   \n",
       "1                                              73.09   \n",
       "2                                              61.79   \n",
       "3                                              43.22   \n",
       "4                                              36.82   \n",
       "\n",
       "   % Population 5 Years And Over: Spanish or Spanish Creole  \\\n",
       "0                                              39.24          \n",
       "1                                              18.19          \n",
       "2                                              26.43          \n",
       "3                                              36.45          \n",
       "4                                              54.24          \n",
       "\n",
       "                                                                                ...                                                                                \\\n",
       "0                                                                               ...                                                                                 \n",
       "1                                                                               ...                                                                                 \n",
       "2                                                                               ...                                                                                 \n",
       "3                                                                               ...                                                                                 \n",
       "4                                                                               ...                                                                                 \n",
       "\n",
       "   Employed Civilian Population 16 Years And Over: Production, transportation, and material moving  occupations: Production occupations  \\\n",
       "0                                                665                                                                                      \n",
       "1                                               1156                                                                                      \n",
       "2                                                941                                                                                      \n",
       "3                                               2189                                                                                      \n",
       "4                                               1437                                                                                      \n",
       "\n",
       "   Employed Civilian Population 16 Years And Over: Production, transportation, and material moving  occupations: Transportation and material moving occupations  \\\n",
       "0                                               1518                                                                                                              \n",
       "1                                               4174                                                                                                              \n",
       "2                                               3433                                                                                                              \n",
       "3                                               5592                                                                                                              \n",
       "4                                               5436                                                                                                              \n",
       "\n",
       "   % Employed Civilian Population 16 Years And Over: Management, professional, and related occupations  \\\n",
       "0                                              42.66                                                     \n",
       "1                                              29.57                                                     \n",
       "2                                              36.20                                                     \n",
       "3                                              30.06                                                     \n",
       "4                                              16.80                                                     \n",
       "\n",
       "   % Employed Civilian Population 16 Years And Over: Service occupations  \\\n",
       "0                                              28.95                       \n",
       "1                                              33.98                       \n",
       "2                                              22.85                       \n",
       "3                                              27.86                       \n",
       "4                                              41.00                       \n",
       "\n",
       "   % Employed Civilian Population 16 Years And Over: Sales and office occupations  \\\n",
       "0                                              20.89                                \n",
       "1                                              20.40                                \n",
       "2                                              25.09                                \n",
       "3                                              22.24                                \n",
       "4                                              22.29                                \n",
       "\n",
       "   % Employed Civilian Population 16 Years And Over: Farming, fishing, and forestry occupations  \\\n",
       "0                                               0.24                                              \n",
       "1                                               0.00                                              \n",
       "2                                               0.00                                              \n",
       "3                                               0.00                                              \n",
       "4                                               0.03                                              \n",
       "\n",
       "   % Employed Civilian Population 16 Years And Over: Construction, extraction, and maintenance  occupations  \\\n",
       "0                                               2.65                                                          \n",
       "1                                               7.08                                                          \n",
       "2                                               7.68                                                          \n",
       "3                                               7.03                                                          \n",
       "4                                               8.45                                                          \n",
       "\n",
       "   % Employed Civilian Population 16 Years And Over: Production, transportation, and material moving  occupations  \\\n",
       "0                                               4.60                                                                \n",
       "1                                               8.97                                                                \n",
       "2                                               8.18                                                                \n",
       "3                                              12.81                                                                \n",
       "4                                              11.43                                                                \n",
       "\n",
       "   % Employed Civilian Population 16 Years And Over: Production, transportation, and material moving  occupations: Production occupations  \\\n",
       "0                                               1.40                                                                                        \n",
       "1                                               1.95                                                                                        \n",
       "2                                               1.76                                                                                        \n",
       "3                                               3.60                                                                                        \n",
       "4                                               2.39                                                                                        \n",
       "\n",
       "   % Employed Civilian Population 16 Years And Over: Production, transportation, and material moving  occupations: Transportation and material moving occupations  \n",
       "0                                               3.20                                                                                                               \n",
       "1                                               7.02                                                                                                               \n",
       "2                                               6.42                                                                                                               \n",
       "3                                               9.20                                                                                                               \n",
       "4                                               9.04                                                                                                               \n",
       "\n",
       "[5 rows x 158 columns]"
      ]
     },
     "execution_count": 7,
     "metadata": {},
     "output_type": "execute_result"
    }
   ],
   "source": [
    "# Check variables in file\n",
    "df_pop.head(5)"
   ]
  },
  {
   "cell_type": "code",
   "execution_count": 8,
   "metadata": {
    "collapsed": false
   },
   "outputs": [
    {
     "data": {
      "text/plain": [
       "['FIPS',\n",
       " 'cd_id',\n",
       " 'Total Population',\n",
       " 'Population Density (per sq. mile)',\n",
       " '% Total Population: Male',\n",
       " '% Total Population: 18 to 24 Years',\n",
       " '% Total Population: 25 to 34 Years',\n",
       " '% Total Population: 35 to 44 Years',\n",
       " '% Population 5 Years And Over: Speak Only English',\n",
       " '% Population 5 Years And Over: Spanish or Spanish Creole',\n",
       " '% Population 5 Years And Over: Spanish or Spanish Creole: Speak English \"very Well\"',\n",
       " '% Population 5 Years And Over: Spanish or Spanish Creole: Speak English Less Than \"very Well\"',\n",
       " 'Population 25 Years and over:',\n",
       " 'Population 25 Years and over: Less Than High School',\n",
       " 'Population 25 Years and over: High School Graduate (includes equivalency)',\n",
       " 'Population 25 Years and over: Some college',\n",
       " \"Population 25 Years and over: Bachelor's degree\",\n",
       " \"Population 25 Years and over: Master's degree\",\n",
       " 'Population 25 Years and over: Professional school degree',\n",
       " 'Population 25 Years and over: Doctorate degree',\n",
       " '% Population 25 Years and over: Less Than High School',\n",
       " '% Population 25 Years and over: High School Graduate (includes equivalency)',\n",
       " '% Population 25 Years and over: Some college',\n",
       " \"% Population 25 Years and over: Bachelor's degree\",\n",
       " \"% Population 25 Years and over: Master's degree\",\n",
       " '% Population 25 Years and over: Professional school degree',\n",
       " '% Population 25 Years and over: Doctorate degree',\n",
       " 'Population 25 Years and over:.1',\n",
       " 'Population 25 Years and over: Less Than High School.1',\n",
       " 'Population 25 Years and over: High School Graduate or more (includes equivalency)',\n",
       " 'Population 25 Years and over: Some college or more',\n",
       " \"Population 25 Years and over: Bachelor's degree or more\",\n",
       " \"Population 25 Years and over: Master's degree or more\",\n",
       " 'Population 25 Years and over: Professional school degree or more',\n",
       " 'Population 25 Years and over: Doctorate degree.1',\n",
       " '% Population 25 Years and over: Less Than High School.1',\n",
       " '% Population 25 Years and over: High School Graduate or more (includes equivalency)',\n",
       " '% Population 25 Years and over: Some college or more',\n",
       " \"% Population 25 Years and over: Bachelor's degree or more\",\n",
       " \"% Population 25 Years and over: Master's degree or more\",\n",
       " '% Population 25 Years and over: Professional school degree or more',\n",
       " '% Population 25 Years and over: Doctorate degree.1',\n",
       " 'Population 3 Years and over:',\n",
       " 'Population 3 Years and over: Enrolled in School',\n",
       " 'Population 3 Years and over: Not Enrolled in School',\n",
       " '% Population 3 Years and over: Enrolled in School',\n",
       " '% Population 3 Years and over: Not Enrolled in School',\n",
       " 'Population 3 Years and over Enrolled In School',\n",
       " 'Population 3 Years and over Enrolled In School: Public School',\n",
       " 'Population 3 Years and over Enrolled In School: Public School: Pre-school',\n",
       " 'Population 3 Years and over Enrolled In School: Public School: K-8',\n",
       " 'Population 3 Years and over Enrolled In School: Public School: 9-12',\n",
       " 'Population 3 Years and over Enrolled In School: Public School: College',\n",
       " 'Population 3 Years and over Enrolled In School: Private School',\n",
       " 'Population 3 Years and over Enrolled In School: Private School: Pre-school',\n",
       " 'Population 3 Years and over Enrolled In School: Private School: K-8',\n",
       " 'Population 3 Years and over Enrolled In School: Private School: 9-12',\n",
       " 'Population 3 Years and over Enrolled In School: Private School: College',\n",
       " '% Population 3 Years and over Enrolled In School: Public School',\n",
       " '% Population 3 Years and over Enrolled In School: Public School: Pre-school',\n",
       " '% Population 3 Years and over Enrolled In School: Public School: K-8',\n",
       " '% Population 3 Years and over Enrolled In School: Public School: 9-12',\n",
       " '% Population 3 Years and over Enrolled In School: Public School: College',\n",
       " '% Population 3 Years and over Enrolled In School: Private School',\n",
       " '% Population 3 Years and over Enrolled In School: Private School: Pre-school',\n",
       " '% Population 3 Years and over Enrolled In School: Private School: K-8',\n",
       " '% Population 3 Years and over Enrolled In School: Private School: 9-12',\n",
       " '% Population 3 Years and over Enrolled In School: Private School: College',\n",
       " 'Employed civilian Population 16 Years and over:',\n",
       " 'Employed civilian Population 16 Years and over: Management, business, and financial operations  occupations',\n",
       " 'Employed civilian Population 16 Years and over: Professional and related occupations',\n",
       " 'Employed civilian Population 16 Years and over: Healthcare support occupations',\n",
       " 'Employed civilian Population 16 Years and over: Protective service occupations',\n",
       " 'Employed civilian Population 16 Years and over: Food preparation and serving related occupations',\n",
       " 'Employed civilian Population 16 Years and over: Building and grounds cleaning and maintenance  occupations',\n",
       " 'Employed civilian Population 16 Years and over: Personal care and service occupations',\n",
       " 'Employed civilian Population 16 Years and over: Sales and related occupations',\n",
       " 'Employed civilian Population 16 Years and over: Office and administrative support occupations',\n",
       " 'Employed civilian Population 16 Years and over: Farming, fishing, and forestry occupations',\n",
       " 'Employed civilian Population 16 Years and over: Construction, extraction, and maintenance  occupations',\n",
       " 'Employed civilian Population 16 Years and over: Production occupations',\n",
       " 'Employed civilian Population 16 Years and over: Transportation and material moving occupations',\n",
       " '% Employed civilian Population 16 Years and over: Management, business, and financial operations  occupations',\n",
       " '% Employed civilian Population 16 Years and over: Professional and related occupations',\n",
       " '% Employed civilian Population 16 Years and over: Healthcare support occupations',\n",
       " '% Employed civilian Population 16 Years and over: Protective service occupations',\n",
       " '% Employed civilian Population 16 Years and over: Food preparation and serving related occupations',\n",
       " '% Employed civilian Population 16 Years and over: Building and grounds cleaning and maintenance  occupations',\n",
       " '% Employed civilian Population 16 Years and over: Personal care and service occupations',\n",
       " '% Employed civilian Population 16 Years and over: Sales and related occupations',\n",
       " '% Employed civilian Population 16 Years and over: Office and administrative support occupations',\n",
       " '% Employed civilian Population 16 Years and over: Farming, fishing, and forestry occupations',\n",
       " '% Employed civilian Population 16 Years and over: Construction, extraction, and maintenance  occupations',\n",
       " '% Employed civilian Population 16 Years and over: Production occupations',\n",
       " '% Employed civilian Population 16 Years and over: Transportation and material moving occupations',\n",
       " 'Employed Civilian Population 16 Years And Over:',\n",
       " 'Employed Civilian Population 16 Years And Over: Private Sector',\n",
       " 'Employed Civilian Population 16 Years And Over: Public Sector',\n",
       " 'Employed Civilian Population 16 Years And Over: Self-Employed (incorporated and not incorporated)',\n",
       " 'Employed Civilian Population 16 Years And Over: Private Non-Profit',\n",
       " 'Employed Civilian Population 16 Years And Over: Unpaid Family Workers',\n",
       " '% Employed Civilian Population 16 Years And Over: Private Sector',\n",
       " '% Employed Civilian Population 16 Years And Over: Public Sector',\n",
       " '% Employed Civilian Population 16 Years And Over: Self-Employed (incorporated and not incorporated)',\n",
       " '% Employed Civilian Population 16 Years And Over: Private Non-Profit',\n",
       " '% Employed Civilian Population 16 Years And Over: Unpaid Family Workers',\n",
       " 'Households:',\n",
       " 'Households: Less than $10,000',\n",
       " 'Households: $10,000 to $14,999',\n",
       " 'Households: $15,000 to $19,999',\n",
       " 'Households: $20,000 to $24,999',\n",
       " 'Households: $25,000 to $29,999',\n",
       " 'Households: $30,000 to $34,999',\n",
       " 'Households: $35,000 to $39,999',\n",
       " 'Households: $40,000 to $44,999',\n",
       " 'Households: $45,000 to $49,999',\n",
       " 'Households: $50,000 to $59,999',\n",
       " 'Households: $60,000 to $74,999',\n",
       " 'Households: $75,000 to $99,999',\n",
       " 'Households: $100,000 to $124,999',\n",
       " 'Households: $125,000 to $149,999',\n",
       " 'Households: $150,000 to $199,999',\n",
       " 'Households: $200,000 or More',\n",
       " '% Households: Less than $10,000',\n",
       " '% Households: $10,000 to $14,999',\n",
       " '% Households: $15,000 to $19,999',\n",
       " '% Households: $20,000 to $24,999',\n",
       " '% Households: $25,000 to $29,999',\n",
       " '% Households: $30,000 to $34,999',\n",
       " '% Households: $35,000 to $39,999',\n",
       " '% Households: $40,000 to $44,999',\n",
       " '% Households: $45,000 to $49,999',\n",
       " '% Households: $50,000 to $59,999',\n",
       " '% Households: $60,000 to $74,999',\n",
       " '% Households: $75,000 to $99,999',\n",
       " '% Households: $100,000 to $124,999',\n",
       " '% Households: $125,000 to $149,999',\n",
       " '% Households: $150,000 to $199,999',\n",
       " '% Households: $200,000 or More',\n",
       " 'Median household income (In 2014 Inflation Adjusted Dollars)',\n",
       " 'Per capita income (In 2014 Inflation Adjusted Dollars)',\n",
       " 'Employed Civilian Population 16 Years And Over:.1',\n",
       " 'Employed Civilian Population 16 Years And Over: Management, professional, and related occupations',\n",
       " 'Employed Civilian Population 16 Years And Over: Service occupations',\n",
       " 'Employed Civilian Population 16 Years And Over: Sales and office occupations',\n",
       " 'Employed Civilian Population 16 Years And Over: Farming, fishing, and forestry occupations',\n",
       " 'Employed Civilian Population 16 Years And Over: Construction, extraction, and maintenance  occupations',\n",
       " 'Employed Civilian Population 16 Years And Over: Production, transportation, and material moving  occupations',\n",
       " 'Employed Civilian Population 16 Years And Over: Production, transportation, and material moving  occupations: Production occupations',\n",
       " 'Employed Civilian Population 16 Years And Over: Production, transportation, and material moving  occupations: Transportation and material moving occupations',\n",
       " '% Employed Civilian Population 16 Years And Over: Management, professional, and related occupations',\n",
       " '% Employed Civilian Population 16 Years And Over: Service occupations',\n",
       " '% Employed Civilian Population 16 Years And Over: Sales and office occupations',\n",
       " '% Employed Civilian Population 16 Years And Over: Farming, fishing, and forestry occupations',\n",
       " '% Employed Civilian Population 16 Years And Over: Construction, extraction, and maintenance  occupations',\n",
       " '% Employed Civilian Population 16 Years And Over: Production, transportation, and material moving  occupations',\n",
       " '% Employed Civilian Population 16 Years And Over: Production, transportation, and material moving  occupations: Production occupations',\n",
       " '% Employed Civilian Population 16 Years And Over: Production, transportation, and material moving  occupations: Transportation and material moving occupations']"
      ]
     },
     "execution_count": 8,
     "metadata": {},
     "output_type": "execute_result"
    }
   ],
   "source": [
    "list(df_pop.columns)"
   ]
  },
  {
   "cell_type": "code",
   "execution_count": 9,
   "metadata": {
    "collapsed": false
   },
   "outputs": [
    {
     "data": {
      "text/plain": [
       "59"
      ]
     },
     "execution_count": 9,
     "metadata": {},
     "output_type": "execute_result"
    }
   ],
   "source": [
    "#How many community districts are in file? \n",
    "len(df_pop['cd_id'].unique())"
   ]
  },
  {
   "cell_type": "code",
   "execution_count": 246,
   "metadata": {
    "collapsed": true
   },
   "outputs": [],
   "source": [
    "# Manipulate data to get some information on demographics by Community District. \n",
    "# Think about who might be more likely to call 311\n",
    "df_pop1 = df_pop[['cd_id', 'Population Density (per sq. mile)', 'Total Population', '% Total Population: Male',\\\n",
    "                   'Median household income (In 2014 Inflation Adjusted Dollars)']]"
   ]
  },
  {
   "cell_type": "code",
   "execution_count": 247,
   "metadata": {
    "collapsed": false
   },
   "outputs": [
    {
     "data": {
      "text/html": [
       "<div>\n",
       "<table border=\"1\" class=\"dataframe\">\n",
       "  <thead>\n",
       "    <tr style=\"text-align: right;\">\n",
       "      <th></th>\n",
       "      <th>cd_id</th>\n",
       "      <th>Population Density (per sq. mile)</th>\n",
       "      <th>Total Population</th>\n",
       "      <th>% Total Population: Male</th>\n",
       "      <th>Median household income (In 2014 Inflation Adjusted Dollars)</th>\n",
       "    </tr>\n",
       "  </thead>\n",
       "  <tbody>\n",
       "    <tr>\n",
       "      <th>0</th>\n",
       "      <td>BX08</td>\n",
       "      <td>31229.95006</td>\n",
       "      <td>106737</td>\n",
       "      <td>46.65</td>\n",
       "      <td>54224</td>\n",
       "    </tr>\n",
       "    <tr>\n",
       "      <th>1</th>\n",
       "      <td>BX12</td>\n",
       "      <td>19966.67839</td>\n",
       "      <td>134644</td>\n",
       "      <td>46.35</td>\n",
       "      <td>44906</td>\n",
       "    </tr>\n",
       "    <tr>\n",
       "      <th>2</th>\n",
       "      <td>BX10</td>\n",
       "      <td>12913.81703</td>\n",
       "      <td>121209</td>\n",
       "      <td>45.20</td>\n",
       "      <td>54962</td>\n",
       "    </tr>\n",
       "    <tr>\n",
       "      <th>3</th>\n",
       "      <td>BX11</td>\n",
       "      <td>35677.95453</td>\n",
       "      <td>135839</td>\n",
       "      <td>50.09</td>\n",
       "      <td>47910</td>\n",
       "    </tr>\n",
       "    <tr>\n",
       "      <th>4</th>\n",
       "      <td>BX03</td>\n",
       "      <td>39405.79222</td>\n",
       "      <td>172247</td>\n",
       "      <td>44.72</td>\n",
       "      <td>22041</td>\n",
       "    </tr>\n",
       "  </tbody>\n",
       "</table>\n",
       "</div>"
      ],
      "text/plain": [
       "  cd_id  Population Density (per sq. mile)  Total Population  \\\n",
       "0  BX08                        31229.95006            106737   \n",
       "1  BX12                        19966.67839            134644   \n",
       "2  BX10                        12913.81703            121209   \n",
       "3  BX11                        35677.95453            135839   \n",
       "4  BX03                        39405.79222            172247   \n",
       "\n",
       "   % Total Population: Male  \\\n",
       "0                     46.65   \n",
       "1                     46.35   \n",
       "2                     45.20   \n",
       "3                     50.09   \n",
       "4                     44.72   \n",
       "\n",
       "   Median household income (In 2014 Inflation Adjusted Dollars)  \n",
       "0                                              54224             \n",
       "1                                              44906             \n",
       "2                                              54962             \n",
       "3                                              47910             \n",
       "4                                              22041             "
      ]
     },
     "execution_count": 247,
     "metadata": {},
     "output_type": "execute_result"
    }
   ],
   "source": [
    "# Save data frame\n",
    "pop = df_pop1\n",
    "pop.head()"
   ]
  },
  {
   "cell_type": "code",
   "execution_count": 12,
   "metadata": {
    "collapsed": true
   },
   "outputs": [],
   "source": [
    "# Infrastructure by Community District\n",
    "df_infr = pd.read_csv('http://cosmo.nyu.edu/~fb55/PUI2016/data/ACS_Computer_Use_and_Internet_2014_1Year_Estimate.csv')"
   ]
  },
  {
   "cell_type": "code",
   "execution_count": 13,
   "metadata": {
    "collapsed": false
   },
   "outputs": [
    {
     "data": {
      "text/plain": [
       "(59, 31)"
      ]
     },
     "execution_count": 13,
     "metadata": {},
     "output_type": "execute_result"
    }
   ],
   "source": [
    "df_infr.shape"
   ]
  },
  {
   "cell_type": "code",
   "execution_count": 16,
   "metadata": {
    "collapsed": false
   },
   "outputs": [
    {
     "data": {
      "text/html": [
       "<div>\n",
       "<table border=\"1\" class=\"dataframe\">\n",
       "  <thead>\n",
       "    <tr style=\"text-align: right;\">\n",
       "      <th></th>\n",
       "      <th>FIPS</th>\n",
       "      <th>Geographic Identifier</th>\n",
       "      <th>Qualifying Name</th>\n",
       "      <th>Households</th>\n",
       "      <th>Households: With An Internet Subscription</th>\n",
       "      <th>Households: Dial-Up Alone</th>\n",
       "      <th>Households: Dsl</th>\n",
       "      <th>Households: With Mobile Broadband</th>\n",
       "      <th>Households: Without Mobile Broadband</th>\n",
       "      <th>Households: Cable Modem</th>\n",
       "      <th>...</th>\n",
       "      <th>Households: Mobile Broadband Alone or With Dialup</th>\n",
       "      <th>Households: Internet Access Without A Subscription</th>\n",
       "      <th>Households: No Internet Access</th>\n",
       "      <th>% Households: With An Internet Subscription</th>\n",
       "      <th>Households.1</th>\n",
       "      <th>Households: Has A Computer</th>\n",
       "      <th>Households: With Dial-Up Internet Subscription Alone</th>\n",
       "      <th>Households: With A Broadband Internet Subscription</th>\n",
       "      <th>Households: Without An Internet Subscription</th>\n",
       "      <th>Households: No Computer</th>\n",
       "    </tr>\n",
       "  </thead>\n",
       "  <tbody>\n",
       "    <tr>\n",
       "      <th>0</th>\n",
       "      <td>3603701</td>\n",
       "      <td>79500US3603701</td>\n",
       "      <td>NYC-Bronx Community District 8--Riverdale, New...</td>\n",
       "      <td>42035</td>\n",
       "      <td>31795</td>\n",
       "      <td>444</td>\n",
       "      <td>2813</td>\n",
       "      <td>946</td>\n",
       "      <td>1867</td>\n",
       "      <td>19178</td>\n",
       "      <td>...</td>\n",
       "      <td>2168</td>\n",
       "      <td>2119</td>\n",
       "      <td>8121</td>\n",
       "      <td>75.64</td>\n",
       "      <td>42035</td>\n",
       "      <td>35048</td>\n",
       "      <td>404</td>\n",
       "      <td>30943</td>\n",
       "      <td>3701</td>\n",
       "      <td>6987</td>\n",
       "    </tr>\n",
       "    <tr>\n",
       "      <th>1</th>\n",
       "      <td>3603702</td>\n",
       "      <td>79500US3603702</td>\n",
       "      <td>NYC-Bronx Community District 12--Wakefield, Ne...</td>\n",
       "      <td>44830</td>\n",
       "      <td>32243</td>\n",
       "      <td>178</td>\n",
       "      <td>849</td>\n",
       "      <td>405</td>\n",
       "      <td>444</td>\n",
       "      <td>18653</td>\n",
       "      <td>...</td>\n",
       "      <td>928</td>\n",
       "      <td>1891</td>\n",
       "      <td>10696</td>\n",
       "      <td>71.92</td>\n",
       "      <td>44830</td>\n",
       "      <td>36700</td>\n",
       "      <td>178</td>\n",
       "      <td>31435</td>\n",
       "      <td>5087</td>\n",
       "      <td>8130</td>\n",
       "    </tr>\n",
       "    <tr>\n",
       "      <th>2</th>\n",
       "      <td>3603703</td>\n",
       "      <td>79500US3603703</td>\n",
       "      <td>NYC-Bronx Community District 10--Co-op City, N...</td>\n",
       "      <td>47050</td>\n",
       "      <td>32729</td>\n",
       "      <td>158</td>\n",
       "      <td>1863</td>\n",
       "      <td>398</td>\n",
       "      <td>1465</td>\n",
       "      <td>20044</td>\n",
       "      <td>...</td>\n",
       "      <td>639</td>\n",
       "      <td>2882</td>\n",
       "      <td>11439</td>\n",
       "      <td>69.56</td>\n",
       "      <td>47050</td>\n",
       "      <td>38700</td>\n",
       "      <td>158</td>\n",
       "      <td>32333</td>\n",
       "      <td>6209</td>\n",
       "      <td>8350</td>\n",
       "    </tr>\n",
       "    <tr>\n",
       "      <th>3</th>\n",
       "      <td>3603704</td>\n",
       "      <td>79500US3603704</td>\n",
       "      <td>NYC-Bronx Community District 11--Pelham Parkwa...</td>\n",
       "      <td>44922</td>\n",
       "      <td>32003</td>\n",
       "      <td>141</td>\n",
       "      <td>1478</td>\n",
       "      <td>474</td>\n",
       "      <td>1004</td>\n",
       "      <td>17917</td>\n",
       "      <td>...</td>\n",
       "      <td>1001</td>\n",
       "      <td>2722</td>\n",
       "      <td>10197</td>\n",
       "      <td>71.24</td>\n",
       "      <td>44922</td>\n",
       "      <td>37237</td>\n",
       "      <td>122</td>\n",
       "      <td>31278</td>\n",
       "      <td>5837</td>\n",
       "      <td>7685</td>\n",
       "    </tr>\n",
       "    <tr>\n",
       "      <th>4</th>\n",
       "      <td>3603705</td>\n",
       "      <td>79500US3603705</td>\n",
       "      <td>NYC-Bronx Community District 3 &amp; 6--Belmont, N...</td>\n",
       "      <td>57556</td>\n",
       "      <td>35503</td>\n",
       "      <td>88</td>\n",
       "      <td>1297</td>\n",
       "      <td>651</td>\n",
       "      <td>646</td>\n",
       "      <td>15847</td>\n",
       "      <td>...</td>\n",
       "      <td>1385</td>\n",
       "      <td>3312</td>\n",
       "      <td>18741</td>\n",
       "      <td>61.68</td>\n",
       "      <td>57556</td>\n",
       "      <td>42576</td>\n",
       "      <td>88</td>\n",
       "      <td>33408</td>\n",
       "      <td>9080</td>\n",
       "      <td>14980</td>\n",
       "    </tr>\n",
       "  </tbody>\n",
       "</table>\n",
       "<p>5 rows × 31 columns</p>\n",
       "</div>"
      ],
      "text/plain": [
       "      FIPS Geographic Identifier  \\\n",
       "0  3603701        79500US3603701   \n",
       "1  3603702        79500US3603702   \n",
       "2  3603703        79500US3603703   \n",
       "3  3603704        79500US3603704   \n",
       "4  3603705        79500US3603705   \n",
       "\n",
       "                                     Qualifying Name  Households  \\\n",
       "0  NYC-Bronx Community District 8--Riverdale, New...       42035   \n",
       "1  NYC-Bronx Community District 12--Wakefield, Ne...       44830   \n",
       "2  NYC-Bronx Community District 10--Co-op City, N...       47050   \n",
       "3  NYC-Bronx Community District 11--Pelham Parkwa...       44922   \n",
       "4  NYC-Bronx Community District 3 & 6--Belmont, N...       57556   \n",
       "\n",
       "   Households: With An Internet Subscription  Households: Dial-Up Alone  \\\n",
       "0                                      31795                        444   \n",
       "1                                      32243                        178   \n",
       "2                                      32729                        158   \n",
       "3                                      32003                        141   \n",
       "4                                      35503                         88   \n",
       "\n",
       "   Households: Dsl  Households: With Mobile Broadband  \\\n",
       "0             2813                                946   \n",
       "1              849                                405   \n",
       "2             1863                                398   \n",
       "3             1478                                474   \n",
       "4             1297                                651   \n",
       "\n",
       "   Households: Without Mobile Broadband  Households: Cable Modem  \\\n",
       "0                                  1867                    19178   \n",
       "1                                   444                    18653   \n",
       "2                                  1465                    20044   \n",
       "3                                  1004                    17917   \n",
       "4                                   646                    15847   \n",
       "\n",
       "            ...             Households: Mobile Broadband Alone or With Dialup  \\\n",
       "0           ...                                                          2168   \n",
       "1           ...                                                           928   \n",
       "2           ...                                                           639   \n",
       "3           ...                                                          1001   \n",
       "4           ...                                                          1385   \n",
       "\n",
       "   Households: Internet Access Without A Subscription  \\\n",
       "0                                               2119    \n",
       "1                                               1891    \n",
       "2                                               2882    \n",
       "3                                               2722    \n",
       "4                                               3312    \n",
       "\n",
       "   Households: No Internet Access  \\\n",
       "0                            8121   \n",
       "1                           10696   \n",
       "2                           11439   \n",
       "3                           10197   \n",
       "4                           18741   \n",
       "\n",
       "   % Households: With An Internet Subscription  Households.1  \\\n",
       "0                                        75.64         42035   \n",
       "1                                        71.92         44830   \n",
       "2                                        69.56         47050   \n",
       "3                                        71.24         44922   \n",
       "4                                        61.68         57556   \n",
       "\n",
       "   Households: Has A Computer  \\\n",
       "0                       35048   \n",
       "1                       36700   \n",
       "2                       38700   \n",
       "3                       37237   \n",
       "4                       42576   \n",
       "\n",
       "   Households: With Dial-Up Internet Subscription Alone  \\\n",
       "0                                                404      \n",
       "1                                                178      \n",
       "2                                                158      \n",
       "3                                                122      \n",
       "4                                                 88      \n",
       "\n",
       "   Households: With A Broadband Internet Subscription  \\\n",
       "0                                              30943    \n",
       "1                                              31435    \n",
       "2                                              32333    \n",
       "3                                              31278    \n",
       "4                                              33408    \n",
       "\n",
       "   Households: Without An Internet Subscription  Households: No Computer  \n",
       "0                                          3701                     6987  \n",
       "1                                          5087                     8130  \n",
       "2                                          6209                     8350  \n",
       "3                                          5837                     7685  \n",
       "4                                          9080                    14980  \n",
       "\n",
       "[5 rows x 31 columns]"
      ]
     },
     "execution_count": 16,
     "metadata": {},
     "output_type": "execute_result"
    }
   ],
   "source": [
    "# Check variables in file\n",
    "df_infr.head(5)"
   ]
  },
  {
   "cell_type": "code",
   "execution_count": 17,
   "metadata": {
    "collapsed": false
   },
   "outputs": [
    {
     "data": {
      "text/plain": [
       "Index(['FIPS', 'Geographic Identifier', 'Qualifying Name', 'Households',\n",
       "       'Households: With An Internet Subscription',\n",
       "       'Households: Dial-Up Alone', 'Households: Dsl',\n",
       "       'Households: With Mobile Broadband',\n",
       "       'Households: Without Mobile Broadband', 'Households: Cable Modem',\n",
       "       'Households: With Mobile Broadband.1',\n",
       "       'Households: Without Mobile Broadband.1', 'Households: Fiber-Optic',\n",
       "       'Households: With Mobile Broadband.2',\n",
       "       'Households: Without Mobile Broadband.2',\n",
       "       'Households: Satellite Internet Service',\n",
       "       'Households: With Mobile Broadband.3',\n",
       "       'Households: Without Mobile Broadband.3',\n",
       "       'Households: Two or More Fixed Broadband Types, or Other',\n",
       "       'Households: With Mobile Broadband.4',\n",
       "       'Households: Without Mobile Broadband.4',\n",
       "       'Households: Mobile Broadband Alone or With Dialup',\n",
       "       'Households: Internet Access Without A Subscription',\n",
       "       'Households: No Internet Access',\n",
       "       '% Households: With An Internet Subscription', 'Households.1',\n",
       "       'Households: Has A Computer',\n",
       "       'Households: With Dial-Up Internet Subscription Alone',\n",
       "       'Households: With A Broadband Internet Subscription',\n",
       "       'Households: Without An Internet Subscription',\n",
       "       'Households: No Computer'],\n",
       "      dtype='object')"
      ]
     },
     "execution_count": 17,
     "metadata": {},
     "output_type": "execute_result"
    }
   ],
   "source": [
    "df_infr.columns"
   ]
  },
  {
   "cell_type": "code",
   "execution_count": 18,
   "metadata": {
    "collapsed": false
   },
   "outputs": [
    {
     "data": {
      "text/plain": [
       "55"
      ]
     },
     "execution_count": 18,
     "metadata": {},
     "output_type": "execute_result"
    }
   ],
   "source": [
    "# How many community districts are in file? \n",
    "len(df_infr['Qualifying Name'].unique())"
   ]
  },
  {
   "cell_type": "code",
   "execution_count": 19,
   "metadata": {
    "collapsed": false
   },
   "outputs": [
    {
     "data": {
      "text/plain": [
       "55"
      ]
     },
     "execution_count": 19,
     "metadata": {},
     "output_type": "execute_result"
    }
   ],
   "source": [
    "df_infr_d = df_infr.drop_duplicates()\n",
    "len(df_infr_d)"
   ]
  },
  {
   "cell_type": "code",
   "execution_count": 20,
   "metadata": {
    "collapsed": false
   },
   "outputs": [
    {
     "name": "stderr",
     "output_type": "stream",
     "text": [
      "/Library/Frameworks/Python.framework/Versions/3.5/lib/python3.5/site-packages/ipykernel/__main__.py:3: SettingWithCopyWarning: \n",
      "A value is trying to be set on a copy of a slice from a DataFrame.\n",
      "Try using .loc[row_indexer,col_indexer] = value instead\n",
      "\n",
      "See the caveats in the documentation: http://pandas.pydata.org/pandas-docs/stable/indexing.html#indexing-view-versus-copy\n",
      "  app.launch_new_instance()\n"
     ]
    }
   ],
   "source": [
    "# Manipulate data to get some information on internet/broadband useage by Community District\n",
    "# Aggregate the mobile subscription data\n",
    "df_infr_d['With Mobile Broadband'] = df_infr_d['Households: With Mobile Broadband'] + \\\n",
    "df_infr_d['Households: With Mobile Broadband.1'] + df_infr_d['Households: With Mobile Broadband.2'] + \\\n",
    "df_infr_d['Households: With Mobile Broadband.3'] + df_infr_d['Households: With Mobile Broadband.4'] + \\\n",
    "df_infr_d['Households: Mobile Broadband Alone or With Dialup']"
   ]
  },
  {
   "cell_type": "code",
   "execution_count": 21,
   "metadata": {
    "collapsed": false
   },
   "outputs": [
    {
     "name": "stderr",
     "output_type": "stream",
     "text": [
      "/Library/Frameworks/Python.framework/Versions/3.5/lib/python3.5/site-packages/ipykernel/__main__.py:1: SettingWithCopyWarning: \n",
      "A value is trying to be set on a copy of a slice from a DataFrame.\n",
      "Try using .loc[row_indexer,col_indexer] = value instead\n",
      "\n",
      "See the caveats in the documentation: http://pandas.pydata.org/pandas-docs/stable/indexing.html#indexing-view-versus-copy\n",
      "  if __name__ == '__main__':\n"
     ]
    }
   ],
   "source": [
    "df_infr_d['Without Mobile Broadband'] = df_infr_d['Households: Without Mobile Broadband'] + \\\n",
    "df_infr_d['Households: Without Mobile Broadband.1'] + df_infr_d['Households: Without Mobile Broadband.2'] + \\\n",
    "df_infr_d['Households: Without Mobile Broadband.2'] + df_infr_d['Households: Without Mobile Broadband.3'] + \\\n",
    "df_infr_d['Households: Without Mobile Broadband.4'] + df_infr_d['Households: Dial-Up Alone']"
   ]
  },
  {
   "cell_type": "code",
   "execution_count": 22,
   "metadata": {
    "collapsed": false
   },
   "outputs": [
    {
     "data": {
      "text/html": [
       "<div>\n",
       "<table border=\"1\" class=\"dataframe\">\n",
       "  <thead>\n",
       "    <tr style=\"text-align: right;\">\n",
       "      <th></th>\n",
       "      <th>FIPS</th>\n",
       "      <th>Geographic Identifier</th>\n",
       "      <th>Qualifying Name</th>\n",
       "      <th>Households</th>\n",
       "      <th>Households: With An Internet Subscription</th>\n",
       "      <th>Households: Dial-Up Alone</th>\n",
       "      <th>Households: Dsl</th>\n",
       "      <th>Households: With Mobile Broadband</th>\n",
       "      <th>Households: Without Mobile Broadband</th>\n",
       "      <th>Households: Cable Modem</th>\n",
       "      <th>...</th>\n",
       "      <th>Households: No Internet Access</th>\n",
       "      <th>% Households: With An Internet Subscription</th>\n",
       "      <th>Households.1</th>\n",
       "      <th>Households: Has A Computer</th>\n",
       "      <th>Households: With Dial-Up Internet Subscription Alone</th>\n",
       "      <th>Households: With A Broadband Internet Subscription</th>\n",
       "      <th>Households: Without An Internet Subscription</th>\n",
       "      <th>Households: No Computer</th>\n",
       "      <th>With Mobile Broadband</th>\n",
       "      <th>Without Mobile Broadband</th>\n",
       "    </tr>\n",
       "  </thead>\n",
       "  <tbody>\n",
       "    <tr>\n",
       "      <th>0</th>\n",
       "      <td>3603701</td>\n",
       "      <td>79500US3603701</td>\n",
       "      <td>NYC-Bronx Community District 8--Riverdale, New...</td>\n",
       "      <td>42035</td>\n",
       "      <td>31795</td>\n",
       "      <td>444</td>\n",
       "      <td>2813</td>\n",
       "      <td>946</td>\n",
       "      <td>1867</td>\n",
       "      <td>19178</td>\n",
       "      <td>...</td>\n",
       "      <td>8121</td>\n",
       "      <td>75.64</td>\n",
       "      <td>42035</td>\n",
       "      <td>35048</td>\n",
       "      <td>404</td>\n",
       "      <td>30943</td>\n",
       "      <td>3701</td>\n",
       "      <td>6987</td>\n",
       "      <td>17527</td>\n",
       "      <td>14774</td>\n",
       "    </tr>\n",
       "    <tr>\n",
       "      <th>1</th>\n",
       "      <td>3603702</td>\n",
       "      <td>79500US3603702</td>\n",
       "      <td>NYC-Bronx Community District 12--Wakefield, Ne...</td>\n",
       "      <td>44830</td>\n",
       "      <td>32243</td>\n",
       "      <td>178</td>\n",
       "      <td>849</td>\n",
       "      <td>405</td>\n",
       "      <td>444</td>\n",
       "      <td>18653</td>\n",
       "      <td>...</td>\n",
       "      <td>10696</td>\n",
       "      <td>71.92</td>\n",
       "      <td>44830</td>\n",
       "      <td>36700</td>\n",
       "      <td>178</td>\n",
       "      <td>31435</td>\n",
       "      <td>5087</td>\n",
       "      <td>8130</td>\n",
       "      <td>11414</td>\n",
       "      <td>24687</td>\n",
       "    </tr>\n",
       "    <tr>\n",
       "      <th>2</th>\n",
       "      <td>3603703</td>\n",
       "      <td>79500US3603703</td>\n",
       "      <td>NYC-Bronx Community District 10--Co-op City, N...</td>\n",
       "      <td>47050</td>\n",
       "      <td>32729</td>\n",
       "      <td>158</td>\n",
       "      <td>1863</td>\n",
       "      <td>398</td>\n",
       "      <td>1465</td>\n",
       "      <td>20044</td>\n",
       "      <td>...</td>\n",
       "      <td>11439</td>\n",
       "      <td>69.56</td>\n",
       "      <td>47050</td>\n",
       "      <td>38700</td>\n",
       "      <td>158</td>\n",
       "      <td>32333</td>\n",
       "      <td>6209</td>\n",
       "      <td>8350</td>\n",
       "      <td>12064</td>\n",
       "      <td>22955</td>\n",
       "    </tr>\n",
       "    <tr>\n",
       "      <th>3</th>\n",
       "      <td>3603704</td>\n",
       "      <td>79500US3603704</td>\n",
       "      <td>NYC-Bronx Community District 11--Pelham Parkwa...</td>\n",
       "      <td>44922</td>\n",
       "      <td>32003</td>\n",
       "      <td>141</td>\n",
       "      <td>1478</td>\n",
       "      <td>474</td>\n",
       "      <td>1004</td>\n",
       "      <td>17917</td>\n",
       "      <td>...</td>\n",
       "      <td>10197</td>\n",
       "      <td>71.24</td>\n",
       "      <td>44922</td>\n",
       "      <td>37237</td>\n",
       "      <td>122</td>\n",
       "      <td>31278</td>\n",
       "      <td>5837</td>\n",
       "      <td>7685</td>\n",
       "      <td>11749</td>\n",
       "      <td>23417</td>\n",
       "    </tr>\n",
       "    <tr>\n",
       "      <th>4</th>\n",
       "      <td>3603705</td>\n",
       "      <td>79500US3603705</td>\n",
       "      <td>NYC-Bronx Community District 3 &amp; 6--Belmont, N...</td>\n",
       "      <td>57556</td>\n",
       "      <td>35503</td>\n",
       "      <td>88</td>\n",
       "      <td>1297</td>\n",
       "      <td>651</td>\n",
       "      <td>646</td>\n",
       "      <td>15847</td>\n",
       "      <td>...</td>\n",
       "      <td>18741</td>\n",
       "      <td>61.68</td>\n",
       "      <td>57556</td>\n",
       "      <td>42576</td>\n",
       "      <td>88</td>\n",
       "      <td>33408</td>\n",
       "      <td>9080</td>\n",
       "      <td>14980</td>\n",
       "      <td>16292</td>\n",
       "      <td>20026</td>\n",
       "    </tr>\n",
       "  </tbody>\n",
       "</table>\n",
       "<p>5 rows × 33 columns</p>\n",
       "</div>"
      ],
      "text/plain": [
       "      FIPS Geographic Identifier  \\\n",
       "0  3603701        79500US3603701   \n",
       "1  3603702        79500US3603702   \n",
       "2  3603703        79500US3603703   \n",
       "3  3603704        79500US3603704   \n",
       "4  3603705        79500US3603705   \n",
       "\n",
       "                                     Qualifying Name  Households  \\\n",
       "0  NYC-Bronx Community District 8--Riverdale, New...       42035   \n",
       "1  NYC-Bronx Community District 12--Wakefield, Ne...       44830   \n",
       "2  NYC-Bronx Community District 10--Co-op City, N...       47050   \n",
       "3  NYC-Bronx Community District 11--Pelham Parkwa...       44922   \n",
       "4  NYC-Bronx Community District 3 & 6--Belmont, N...       57556   \n",
       "\n",
       "   Households: With An Internet Subscription  Households: Dial-Up Alone  \\\n",
       "0                                      31795                        444   \n",
       "1                                      32243                        178   \n",
       "2                                      32729                        158   \n",
       "3                                      32003                        141   \n",
       "4                                      35503                         88   \n",
       "\n",
       "   Households: Dsl  Households: With Mobile Broadband  \\\n",
       "0             2813                                946   \n",
       "1              849                                405   \n",
       "2             1863                                398   \n",
       "3             1478                                474   \n",
       "4             1297                                651   \n",
       "\n",
       "   Households: Without Mobile Broadband  Households: Cable Modem  \\\n",
       "0                                  1867                    19178   \n",
       "1                                   444                    18653   \n",
       "2                                  1465                    20044   \n",
       "3                                  1004                    17917   \n",
       "4                                   646                    15847   \n",
       "\n",
       "             ...             Households: No Internet Access  \\\n",
       "0            ...                                       8121   \n",
       "1            ...                                      10696   \n",
       "2            ...                                      11439   \n",
       "3            ...                                      10197   \n",
       "4            ...                                      18741   \n",
       "\n",
       "   % Households: With An Internet Subscription  Households.1  \\\n",
       "0                                        75.64         42035   \n",
       "1                                        71.92         44830   \n",
       "2                                        69.56         47050   \n",
       "3                                        71.24         44922   \n",
       "4                                        61.68         57556   \n",
       "\n",
       "   Households: Has A Computer  \\\n",
       "0                       35048   \n",
       "1                       36700   \n",
       "2                       38700   \n",
       "3                       37237   \n",
       "4                       42576   \n",
       "\n",
       "   Households: With Dial-Up Internet Subscription Alone  \\\n",
       "0                                                404      \n",
       "1                                                178      \n",
       "2                                                158      \n",
       "3                                                122      \n",
       "4                                                 88      \n",
       "\n",
       "   Households: With A Broadband Internet Subscription  \\\n",
       "0                                              30943    \n",
       "1                                              31435    \n",
       "2                                              32333    \n",
       "3                                              31278    \n",
       "4                                              33408    \n",
       "\n",
       "   Households: Without An Internet Subscription  Households: No Computer  \\\n",
       "0                                          3701                     6987   \n",
       "1                                          5087                     8130   \n",
       "2                                          6209                     8350   \n",
       "3                                          5837                     7685   \n",
       "4                                          9080                    14980   \n",
       "\n",
       "   With Mobile Broadband  Without Mobile Broadband  \n",
       "0                  17527                     14774  \n",
       "1                  11414                     24687  \n",
       "2                  12064                     22955  \n",
       "3                  11749                     23417  \n",
       "4                  16292                     20026  \n",
       "\n",
       "[5 rows x 33 columns]"
      ]
     },
     "execution_count": 22,
     "metadata": {},
     "output_type": "execute_result"
    }
   ],
   "source": [
    "df_infr_d.head(5)"
   ]
  },
  {
   "cell_type": "code",
   "execution_count": 23,
   "metadata": {
    "collapsed": false
   },
   "outputs": [
    {
     "name": "stderr",
     "output_type": "stream",
     "text": [
      "/Library/Frameworks/Python.framework/Versions/3.5/lib/python3.5/site-packages/ipykernel/__main__.py:2: SettingWithCopyWarning: \n",
      "A value is trying to be set on a copy of a slice from a DataFrame.\n",
      "Try using .loc[row_indexer,col_indexer] = value instead\n",
      "\n",
      "See the caveats in the documentation: http://pandas.pydata.org/pandas-docs/stable/indexing.html#indexing-view-versus-copy\n",
      "  from ipykernel import kernelapp as app\n"
     ]
    }
   ],
   "source": [
    "# Aggregate internet type by high and low connections\n",
    "df_infr_d['high connections'] = df_infr_d['Households: Dsl'] + \\\n",
    "df_infr_d['Households: Cable Modem'] + df_infr_d['Households: Fiber-Optic'] + \\\n",
    "df_infr_d['Households: Satellite Internet Service'] + \\\n",
    "df_infr_d['Households: Two or More Fixed Broadband Types, or Other']\n",
    "\n",
    "    "
   ]
  },
  {
   "cell_type": "code",
   "execution_count": 24,
   "metadata": {
    "collapsed": false
   },
   "outputs": [
    {
     "name": "stderr",
     "output_type": "stream",
     "text": [
      "/Library/Frameworks/Python.framework/Versions/3.5/lib/python3.5/site-packages/ipykernel/__main__.py:1: SettingWithCopyWarning: \n",
      "A value is trying to be set on a copy of a slice from a DataFrame.\n",
      "Try using .loc[row_indexer,col_indexer] = value instead\n",
      "\n",
      "See the caveats in the documentation: http://pandas.pydata.org/pandas-docs/stable/indexing.html#indexing-view-versus-copy\n",
      "  if __name__ == '__main__':\n"
     ]
    }
   ],
   "source": [
    "df_infr_d['low connections'] = df_infr_d['Households: Dial-Up Alone'] + \\\n",
    "df_infr_d['Households: Mobile Broadband Alone or With Dialup'] + \\\n",
    "df_infr_d['Households: No Internet Access'] + df_infr_d['Households: Internet Access Without A Subscription'] \n"
   ]
  },
  {
   "cell_type": "code",
   "execution_count": 40,
   "metadata": {
    "collapsed": false
   },
   "outputs": [
    {
     "data": {
      "text/html": [
       "<div>\n",
       "<table border=\"1\" class=\"dataframe\">\n",
       "  <thead>\n",
       "    <tr style=\"text-align: right;\">\n",
       "      <th></th>\n",
       "      <th>FIPS</th>\n",
       "      <th>Geographic Identifier</th>\n",
       "      <th>Qualifying Name</th>\n",
       "      <th>Households</th>\n",
       "      <th>Households: With An Internet Subscription</th>\n",
       "      <th>Households: Dial-Up Alone</th>\n",
       "      <th>Households: Dsl</th>\n",
       "      <th>Households: With Mobile Broadband</th>\n",
       "      <th>Households: Without Mobile Broadband</th>\n",
       "      <th>Households: Cable Modem</th>\n",
       "      <th>...</th>\n",
       "      <th>Households.1</th>\n",
       "      <th>Households: Has A Computer</th>\n",
       "      <th>Households: With Dial-Up Internet Subscription Alone</th>\n",
       "      <th>Households: With A Broadband Internet Subscription</th>\n",
       "      <th>Households: Without An Internet Subscription</th>\n",
       "      <th>Households: No Computer</th>\n",
       "      <th>With Mobile Broadband</th>\n",
       "      <th>Without Mobile Broadband</th>\n",
       "      <th>high connections</th>\n",
       "      <th>low connections</th>\n",
       "    </tr>\n",
       "  </thead>\n",
       "  <tbody>\n",
       "    <tr>\n",
       "      <th>0</th>\n",
       "      <td>3603701</td>\n",
       "      <td>79500US3603701</td>\n",
       "      <td>NYC-Bronx Community District 8--Riverdale, New...</td>\n",
       "      <td>42035</td>\n",
       "      <td>31795</td>\n",
       "      <td>444</td>\n",
       "      <td>2813</td>\n",
       "      <td>946</td>\n",
       "      <td>1867</td>\n",
       "      <td>19178</td>\n",
       "      <td>...</td>\n",
       "      <td>42035</td>\n",
       "      <td>35048</td>\n",
       "      <td>404</td>\n",
       "      <td>30943</td>\n",
       "      <td>3701</td>\n",
       "      <td>6987</td>\n",
       "      <td>17527</td>\n",
       "      <td>14774</td>\n",
       "      <td>29183</td>\n",
       "      <td>12852</td>\n",
       "    </tr>\n",
       "    <tr>\n",
       "      <th>1</th>\n",
       "      <td>3603702</td>\n",
       "      <td>79500US3603702</td>\n",
       "      <td>NYC-Bronx Community District 12--Wakefield, Ne...</td>\n",
       "      <td>44830</td>\n",
       "      <td>32243</td>\n",
       "      <td>178</td>\n",
       "      <td>849</td>\n",
       "      <td>405</td>\n",
       "      <td>444</td>\n",
       "      <td>18653</td>\n",
       "      <td>...</td>\n",
       "      <td>44830</td>\n",
       "      <td>36700</td>\n",
       "      <td>178</td>\n",
       "      <td>31435</td>\n",
       "      <td>5087</td>\n",
       "      <td>8130</td>\n",
       "      <td>11414</td>\n",
       "      <td>24687</td>\n",
       "      <td>31137</td>\n",
       "      <td>13693</td>\n",
       "    </tr>\n",
       "    <tr>\n",
       "      <th>2</th>\n",
       "      <td>3603703</td>\n",
       "      <td>79500US3603703</td>\n",
       "      <td>NYC-Bronx Community District 10--Co-op City, N...</td>\n",
       "      <td>47050</td>\n",
       "      <td>32729</td>\n",
       "      <td>158</td>\n",
       "      <td>1863</td>\n",
       "      <td>398</td>\n",
       "      <td>1465</td>\n",
       "      <td>20044</td>\n",
       "      <td>...</td>\n",
       "      <td>47050</td>\n",
       "      <td>38700</td>\n",
       "      <td>158</td>\n",
       "      <td>32333</td>\n",
       "      <td>6209</td>\n",
       "      <td>8350</td>\n",
       "      <td>12064</td>\n",
       "      <td>22955</td>\n",
       "      <td>31932</td>\n",
       "      <td>15118</td>\n",
       "    </tr>\n",
       "    <tr>\n",
       "      <th>3</th>\n",
       "      <td>3603704</td>\n",
       "      <td>79500US3603704</td>\n",
       "      <td>NYC-Bronx Community District 11--Pelham Parkwa...</td>\n",
       "      <td>44922</td>\n",
       "      <td>32003</td>\n",
       "      <td>141</td>\n",
       "      <td>1478</td>\n",
       "      <td>474</td>\n",
       "      <td>1004</td>\n",
       "      <td>17917</td>\n",
       "      <td>...</td>\n",
       "      <td>44922</td>\n",
       "      <td>37237</td>\n",
       "      <td>122</td>\n",
       "      <td>31278</td>\n",
       "      <td>5837</td>\n",
       "      <td>7685</td>\n",
       "      <td>11749</td>\n",
       "      <td>23417</td>\n",
       "      <td>30861</td>\n",
       "      <td>14061</td>\n",
       "    </tr>\n",
       "    <tr>\n",
       "      <th>4</th>\n",
       "      <td>3603705</td>\n",
       "      <td>79500US3603705</td>\n",
       "      <td>NYC-Bronx Community District 3 &amp; 6--Belmont, N...</td>\n",
       "      <td>57556</td>\n",
       "      <td>35503</td>\n",
       "      <td>88</td>\n",
       "      <td>1297</td>\n",
       "      <td>651</td>\n",
       "      <td>646</td>\n",
       "      <td>15847</td>\n",
       "      <td>...</td>\n",
       "      <td>57556</td>\n",
       "      <td>42576</td>\n",
       "      <td>88</td>\n",
       "      <td>33408</td>\n",
       "      <td>9080</td>\n",
       "      <td>14980</td>\n",
       "      <td>16292</td>\n",
       "      <td>20026</td>\n",
       "      <td>34030</td>\n",
       "      <td>23526</td>\n",
       "    </tr>\n",
       "  </tbody>\n",
       "</table>\n",
       "<p>5 rows × 35 columns</p>\n",
       "</div>"
      ],
      "text/plain": [
       "      FIPS Geographic Identifier  \\\n",
       "0  3603701        79500US3603701   \n",
       "1  3603702        79500US3603702   \n",
       "2  3603703        79500US3603703   \n",
       "3  3603704        79500US3603704   \n",
       "4  3603705        79500US3603705   \n",
       "\n",
       "                                     Qualifying Name  Households  \\\n",
       "0  NYC-Bronx Community District 8--Riverdale, New...       42035   \n",
       "1  NYC-Bronx Community District 12--Wakefield, Ne...       44830   \n",
       "2  NYC-Bronx Community District 10--Co-op City, N...       47050   \n",
       "3  NYC-Bronx Community District 11--Pelham Parkwa...       44922   \n",
       "4  NYC-Bronx Community District 3 & 6--Belmont, N...       57556   \n",
       "\n",
       "   Households: With An Internet Subscription  Households: Dial-Up Alone  \\\n",
       "0                                      31795                        444   \n",
       "1                                      32243                        178   \n",
       "2                                      32729                        158   \n",
       "3                                      32003                        141   \n",
       "4                                      35503                         88   \n",
       "\n",
       "   Households: Dsl  Households: With Mobile Broadband  \\\n",
       "0             2813                                946   \n",
       "1              849                                405   \n",
       "2             1863                                398   \n",
       "3             1478                                474   \n",
       "4             1297                                651   \n",
       "\n",
       "   Households: Without Mobile Broadband  Households: Cable Modem  \\\n",
       "0                                  1867                    19178   \n",
       "1                                   444                    18653   \n",
       "2                                  1465                    20044   \n",
       "3                                  1004                    17917   \n",
       "4                                   646                    15847   \n",
       "\n",
       "        ...         Households.1  Households: Has A Computer  \\\n",
       "0       ...                42035                       35048   \n",
       "1       ...                44830                       36700   \n",
       "2       ...                47050                       38700   \n",
       "3       ...                44922                       37237   \n",
       "4       ...                57556                       42576   \n",
       "\n",
       "   Households: With Dial-Up Internet Subscription Alone  \\\n",
       "0                                                404      \n",
       "1                                                178      \n",
       "2                                                158      \n",
       "3                                                122      \n",
       "4                                                 88      \n",
       "\n",
       "   Households: With A Broadband Internet Subscription  \\\n",
       "0                                              30943    \n",
       "1                                              31435    \n",
       "2                                              32333    \n",
       "3                                              31278    \n",
       "4                                              33408    \n",
       "\n",
       "   Households: Without An Internet Subscription  Households: No Computer  \\\n",
       "0                                          3701                     6987   \n",
       "1                                          5087                     8130   \n",
       "2                                          6209                     8350   \n",
       "3                                          5837                     7685   \n",
       "4                                          9080                    14980   \n",
       "\n",
       "   With Mobile Broadband  Without Mobile Broadband  high connections  \\\n",
       "0                  17527                     14774             29183   \n",
       "1                  11414                     24687             31137   \n",
       "2                  12064                     22955             31932   \n",
       "3                  11749                     23417             30861   \n",
       "4                  16292                     20026             34030   \n",
       "\n",
       "   low connections  \n",
       "0            12852  \n",
       "1            13693  \n",
       "2            15118  \n",
       "3            14061  \n",
       "4            23526  \n",
       "\n",
       "[5 rows x 35 columns]"
      ]
     },
     "execution_count": 40,
     "metadata": {},
     "output_type": "execute_result"
    }
   ],
   "source": [
    "df_infr_d.head()"
   ]
  },
  {
   "cell_type": "code",
   "execution_count": 156,
   "metadata": {
    "collapsed": true
   },
   "outputs": [],
   "source": [
    "# Save data frame \n",
    "infr_1 = df_infr_d[['Qualifying Name', 'With Mobile Broadband', 'Without Mobile Broadband',\\\n",
    "                    'high connections', 'low connections']]"
   ]
  },
  {
   "cell_type": "code",
   "execution_count": 157,
   "metadata": {
    "collapsed": false
   },
   "outputs": [
    {
     "data": {
      "text/html": [
       "<div>\n",
       "<table border=\"1\" class=\"dataframe\">\n",
       "  <thead>\n",
       "    <tr style=\"text-align: right;\">\n",
       "      <th></th>\n",
       "      <th>Qualifying Name</th>\n",
       "      <th>With Mobile Broadband</th>\n",
       "      <th>Without Mobile Broadband</th>\n",
       "      <th>high connections</th>\n",
       "      <th>low connections</th>\n",
       "    </tr>\n",
       "  </thead>\n",
       "  <tbody>\n",
       "    <tr>\n",
       "      <th>0</th>\n",
       "      <td>NYC-Bronx Community District 8--Riverdale, New...</td>\n",
       "      <td>17527</td>\n",
       "      <td>14774</td>\n",
       "      <td>29183</td>\n",
       "      <td>12852</td>\n",
       "    </tr>\n",
       "    <tr>\n",
       "      <th>1</th>\n",
       "      <td>NYC-Bronx Community District 12--Wakefield, Ne...</td>\n",
       "      <td>11414</td>\n",
       "      <td>24687</td>\n",
       "      <td>31137</td>\n",
       "      <td>13693</td>\n",
       "    </tr>\n",
       "    <tr>\n",
       "      <th>2</th>\n",
       "      <td>NYC-Bronx Community District 10--Co-op City, N...</td>\n",
       "      <td>12064</td>\n",
       "      <td>22955</td>\n",
       "      <td>31932</td>\n",
       "      <td>15118</td>\n",
       "    </tr>\n",
       "    <tr>\n",
       "      <th>3</th>\n",
       "      <td>NYC-Bronx Community District 11--Pelham Parkwa...</td>\n",
       "      <td>11749</td>\n",
       "      <td>23417</td>\n",
       "      <td>30861</td>\n",
       "      <td>14061</td>\n",
       "    </tr>\n",
       "    <tr>\n",
       "      <th>4</th>\n",
       "      <td>NYC-Bronx Community District 3 &amp; 6--Belmont, N...</td>\n",
       "      <td>16292</td>\n",
       "      <td>20026</td>\n",
       "      <td>34030</td>\n",
       "      <td>23526</td>\n",
       "    </tr>\n",
       "  </tbody>\n",
       "</table>\n",
       "</div>"
      ],
      "text/plain": [
       "                                     Qualifying Name  With Mobile Broadband  \\\n",
       "0  NYC-Bronx Community District 8--Riverdale, New...                  17527   \n",
       "1  NYC-Bronx Community District 12--Wakefield, Ne...                  11414   \n",
       "2  NYC-Bronx Community District 10--Co-op City, N...                  12064   \n",
       "3  NYC-Bronx Community District 11--Pelham Parkwa...                  11749   \n",
       "4  NYC-Bronx Community District 3 & 6--Belmont, N...                  16292   \n",
       "\n",
       "   Without Mobile Broadband  high connections  low connections  \n",
       "0                     14774             29183            12852  \n",
       "1                     24687             31137            13693  \n",
       "2                     22955             31932            15118  \n",
       "3                     23417             30861            14061  \n",
       "4                     20026             34030            23526  "
      ]
     },
     "execution_count": 157,
     "metadata": {},
     "output_type": "execute_result"
    }
   ],
   "source": [
    "infr_1.head()"
   ]
  },
  {
   "cell_type": "markdown",
   "metadata": {},
   "source": [
    "# 5. Inform your results by linking datasets"
   ]
  },
  {
   "cell_type": "markdown",
   "metadata": {
    "collapsed": true
   },
   "source": [
    "Now you want to link the three data frames to produce summary statistics for Community Districts which show a high number of complaints vs. Community Districts which show a lower number of complaints. Please keep in mind that the identifiers used for the linkage (Community Dostrict IDs) should be recored the same way. Use regular expressions to harmonize the identifiers if possible. The identifiers should look like BK01, BK02, etc. https://docs.python.org/2/library/re.html"
   ]
  },
  {
   "cell_type": "code",
   "execution_count": 227,
   "metadata": {
    "collapsed": false
   },
   "outputs": [
    {
     "data": {
      "text/html": [
       "<div>\n",
       "<table border=\"1\" class=\"dataframe\">\n",
       "  <thead>\n",
       "    <tr style=\"text-align: right;\">\n",
       "      <th></th>\n",
       "      <th>CM B</th>\n",
       "      <th>Complaint Count</th>\n",
       "    </tr>\n",
       "  </thead>\n",
       "  <tbody>\n",
       "    <tr>\n",
       "      <th>0</th>\n",
       "      <td>01 BRONX</td>\n",
       "      <td>22</td>\n",
       "    </tr>\n",
       "    <tr>\n",
       "      <th>1</th>\n",
       "      <td>01 BROOKLYN</td>\n",
       "      <td>27</td>\n",
       "    </tr>\n",
       "    <tr>\n",
       "      <th>2</th>\n",
       "      <td>01 MANHATTAN</td>\n",
       "      <td>7</td>\n",
       "    </tr>\n",
       "    <tr>\n",
       "      <th>3</th>\n",
       "      <td>01 QUEENS</td>\n",
       "      <td>29</td>\n",
       "    </tr>\n",
       "    <tr>\n",
       "      <th>4</th>\n",
       "      <td>01 STATEN ISLAND</td>\n",
       "      <td>17</td>\n",
       "    </tr>\n",
       "  </tbody>\n",
       "</table>\n",
       "</div>"
      ],
      "text/plain": [
       "               CM B  Complaint Count\n",
       "0          01 BRONX               22\n",
       "1       01 BROOKLYN               27\n",
       "2      01 MANHATTAN                7\n",
       "3         01 QUEENS               29\n",
       "4  01 STATEN ISLAND               17"
      ]
     },
     "execution_count": 227,
     "metadata": {},
     "output_type": "execute_result"
    }
   ],
   "source": [
    "# Harmonize identifier of dataframe 1\n",
    "complaint.reset_index(level=0, inplace=True)\n",
    "complaint.rename(columns={'index': 'CM B'}, inplace=True)\n",
    "complaint.head()"
   ]
  },
  {
   "cell_type": "code",
   "execution_count": 228,
   "metadata": {
    "collapsed": false
   },
   "outputs": [
    {
     "data": {
      "text/html": [
       "<div>\n",
       "<table border=\"1\" class=\"dataframe\">\n",
       "  <thead>\n",
       "    <tr style=\"text-align: right;\">\n",
       "      <th></th>\n",
       "      <th>CM B</th>\n",
       "      <th>Complaint Count</th>\n",
       "    </tr>\n",
       "  </thead>\n",
       "  <tbody>\n",
       "    <tr>\n",
       "      <th>0</th>\n",
       "      <td>01 BX</td>\n",
       "      <td>22</td>\n",
       "    </tr>\n",
       "    <tr>\n",
       "      <th>1</th>\n",
       "      <td>01 BK</td>\n",
       "      <td>27</td>\n",
       "    </tr>\n",
       "    <tr>\n",
       "      <th>2</th>\n",
       "      <td>01 MN</td>\n",
       "      <td>7</td>\n",
       "    </tr>\n",
       "    <tr>\n",
       "      <th>3</th>\n",
       "      <td>01 QN</td>\n",
       "      <td>29</td>\n",
       "    </tr>\n",
       "    <tr>\n",
       "      <th>4</th>\n",
       "      <td>01 SI</td>\n",
       "      <td>17</td>\n",
       "    </tr>\n",
       "  </tbody>\n",
       "</table>\n",
       "</div>"
      ],
      "text/plain": [
       "    CM B  Complaint Count\n",
       "0  01 BX               22\n",
       "1  01 BK               27\n",
       "2  01 MN                7\n",
       "3  01 QN               29\n",
       "4  01 SI               17"
      ]
     },
     "execution_count": 228,
     "metadata": {},
     "output_type": "execute_result"
    }
   ],
   "source": [
    "complaint['CM B'] = complaint['CM B'].str.replace('BRONX', 'BX')\n",
    "complaint['CM B'] = complaint['CM B'].str.replace('MANHATTAN', 'MN')\n",
    "complaint['CM B'] = complaint['CM B'].str.replace('BROOKLYN', 'BK')\n",
    "complaint['CM B'] = complaint['CM B'].str.replace('QUEENS', 'QN')\n",
    "complaint['CM B'] = complaint['CM B'].str.replace('STATEN ISLAND', 'SI')\n",
    "\n",
    "complaint.head()"
   ]
  },
  {
   "cell_type": "code",
   "execution_count": 233,
   "metadata": {
    "collapsed": true
   },
   "outputs": [],
   "source": [
    "cm1 = complaint['CM B'].map(lambda x: str(x).split(' ')[0])\n",
    "cm2 = complaint['CM B'].map(lambda x: str(x).split(' ')[1])\n",
    "cm = cm2 + cm1"
   ]
  },
  {
   "cell_type": "code",
   "execution_count": 235,
   "metadata": {
    "collapsed": false
   },
   "outputs": [
    {
     "data": {
      "text/html": [
       "<div>\n",
       "<table border=\"1\" class=\"dataframe\">\n",
       "  <thead>\n",
       "    <tr style=\"text-align: right;\">\n",
       "      <th></th>\n",
       "      <th>CM B</th>\n",
       "      <th>Complaint Count</th>\n",
       "    </tr>\n",
       "  </thead>\n",
       "  <tbody>\n",
       "    <tr>\n",
       "      <th>0</th>\n",
       "      <td>BX01</td>\n",
       "      <td>22</td>\n",
       "    </tr>\n",
       "    <tr>\n",
       "      <th>1</th>\n",
       "      <td>BK01</td>\n",
       "      <td>27</td>\n",
       "    </tr>\n",
       "    <tr>\n",
       "      <th>2</th>\n",
       "      <td>MN01</td>\n",
       "      <td>7</td>\n",
       "    </tr>\n",
       "    <tr>\n",
       "      <th>3</th>\n",
       "      <td>QN01</td>\n",
       "      <td>29</td>\n",
       "    </tr>\n",
       "    <tr>\n",
       "      <th>4</th>\n",
       "      <td>SI01</td>\n",
       "      <td>17</td>\n",
       "    </tr>\n",
       "  </tbody>\n",
       "</table>\n",
       "</div>"
      ],
      "text/plain": [
       "   CM B  Complaint Count\n",
       "0  BX01               22\n",
       "1  BK01               27\n",
       "2  MN01                7\n",
       "3  QN01               29\n",
       "4  SI01               17"
      ]
     },
     "execution_count": 235,
     "metadata": {},
     "output_type": "execute_result"
    }
   ],
   "source": [
    "complaint_f = complaint\n",
    "complaint_f['CM B'] = cm\n",
    "complaint_f.head()"
   ]
  },
  {
   "cell_type": "code",
   "execution_count": 248,
   "metadata": {
    "collapsed": false,
    "scrolled": true
   },
   "outputs": [
    {
     "data": {
      "text/plain": [
       "0        BX08\n",
       "1        BX12\n",
       "2        BX10\n",
       "3        BX11\n",
       "4        BX03\n",
       "5        BX06\n",
       "6        BX07\n",
       "7        BX05\n",
       "8        BX04\n",
       "9        BX09\n",
       "10       BX01\n",
       "11       BX02\n",
       "12       MN12\n",
       "13       MN09\n",
       "14       MN10\n",
       "15    MN11111\n",
       "16       MN08\n",
       "17       MN07\n",
       "18       MN05\n",
       "19       MN04\n",
       "20       MN06\n",
       "21       MN03\n",
       "22       MN01\n",
       "23       MN02\n",
       "24       SI03\n",
       "25       SI02\n",
       "26       SI01\n",
       "27       BK01\n",
       "28       BK04\n",
       "29       BK03\n",
       "30       BK02\n",
       "31       BK06\n",
       "32       BK08\n",
       "33       BK16\n",
       "34       BK05\n",
       "35       BK18\n",
       "36       BK17\n",
       "37       BK09\n",
       "38       BK07\n",
       "39       BK10\n",
       "40       BK12\n",
       "41       BK14\n",
       "42       BK15\n",
       "43       BK11\n",
       "44       BK13\n",
       "45       QN01\n",
       "46       QN03\n",
       "47       QN07\n",
       "48       QN11\n",
       "49       QN13\n",
       "50       QN08\n",
       "51       QN04\n",
       "52       QN06\n",
       "53       QN02\n",
       "54       QN05\n",
       "55       QN09\n",
       "56       QN12\n",
       "57       QN10\n",
       "58       QN14\n",
       "Name: cd_id, dtype: object"
      ]
     },
     "execution_count": 248,
     "metadata": {},
     "output_type": "execute_result"
    }
   ],
   "source": [
    "# Harmonize identifier of dataframe 2\n",
    "pop['cd_id']"
   ]
  },
  {
   "cell_type": "code",
   "execution_count": 249,
   "metadata": {
    "collapsed": false
   },
   "outputs": [
    {
     "name": "stderr",
     "output_type": "stream",
     "text": [
      "/Library/Frameworks/Python.framework/Versions/3.5/lib/python3.5/site-packages/ipykernel/__main__.py:1: SettingWithCopyWarning: \n",
      "A value is trying to be set on a copy of a slice from a DataFrame.\n",
      "Try using .loc[row_indexer,col_indexer] = value instead\n",
      "\n",
      "See the caveats in the documentation: http://pandas.pydata.org/pandas-docs/stable/indexing.html#indexing-view-versus-copy\n",
      "  if __name__ == '__main__':\n"
     ]
    }
   ],
   "source": [
    "pop['cd_id'] = pop['cd_id'].str.replace('MN11111', 'MN11')"
   ]
  },
  {
   "cell_type": "code",
   "execution_count": 250,
   "metadata": {
    "collapsed": false,
    "scrolled": true
   },
   "outputs": [
    {
     "data": {
      "text/plain": [
       "0     BX08\n",
       "1     BX12\n",
       "2     BX10\n",
       "3     BX11\n",
       "4     BX03\n",
       "5     BX06\n",
       "6     BX07\n",
       "7     BX05\n",
       "8     BX04\n",
       "9     BX09\n",
       "10    BX01\n",
       "11    BX02\n",
       "12    MN12\n",
       "13    MN09\n",
       "14    MN10\n",
       "15    MN11\n",
       "16    MN08\n",
       "17    MN07\n",
       "18    MN05\n",
       "19    MN04\n",
       "20    MN06\n",
       "21    MN03\n",
       "22    MN01\n",
       "23    MN02\n",
       "24    SI03\n",
       "25    SI02\n",
       "26    SI01\n",
       "27    BK01\n",
       "28    BK04\n",
       "29    BK03\n",
       "30    BK02\n",
       "31    BK06\n",
       "32    BK08\n",
       "33    BK16\n",
       "34    BK05\n",
       "35    BK18\n",
       "36    BK17\n",
       "37    BK09\n",
       "38    BK07\n",
       "39    BK10\n",
       "40    BK12\n",
       "41    BK14\n",
       "42    BK15\n",
       "43    BK11\n",
       "44    BK13\n",
       "45    QN01\n",
       "46    QN03\n",
       "47    QN07\n",
       "48    QN11\n",
       "49    QN13\n",
       "50    QN08\n",
       "51    QN04\n",
       "52    QN06\n",
       "53    QN02\n",
       "54    QN05\n",
       "55    QN09\n",
       "56    QN12\n",
       "57    QN10\n",
       "58    QN14\n",
       "Name: cd_id, dtype: object"
      ]
     },
     "execution_count": 250,
     "metadata": {},
     "output_type": "execute_result"
    }
   ],
   "source": [
    "pop['cd_id']"
   ]
  },
  {
   "cell_type": "code",
   "execution_count": 251,
   "metadata": {
    "collapsed": false
   },
   "outputs": [
    {
     "name": "stderr",
     "output_type": "stream",
     "text": [
      "/Library/Frameworks/Python.framework/Versions/3.5/lib/python3.5/site-packages/pandas/core/frame.py:2754: SettingWithCopyWarning: \n",
      "A value is trying to be set on a copy of a slice from a DataFrame\n",
      "\n",
      "See the caveats in the documentation: http://pandas.pydata.org/pandas-docs/stable/indexing.html#indexing-view-versus-copy\n",
      "  **kwargs)\n"
     ]
    },
    {
     "data": {
      "text/html": [
       "<div>\n",
       "<table border=\"1\" class=\"dataframe\">\n",
       "  <thead>\n",
       "    <tr style=\"text-align: right;\">\n",
       "      <th></th>\n",
       "      <th>CM B</th>\n",
       "      <th>Population Density (per sq. mile)</th>\n",
       "      <th>Total Population</th>\n",
       "      <th>% Total Population: Male</th>\n",
       "      <th>Median household income (In 2014 Inflation Adjusted Dollars)</th>\n",
       "    </tr>\n",
       "  </thead>\n",
       "  <tbody>\n",
       "    <tr>\n",
       "      <th>0</th>\n",
       "      <td>BX08</td>\n",
       "      <td>31229.95006</td>\n",
       "      <td>106737</td>\n",
       "      <td>46.65</td>\n",
       "      <td>54224</td>\n",
       "    </tr>\n",
       "    <tr>\n",
       "      <th>1</th>\n",
       "      <td>BX12</td>\n",
       "      <td>19966.67839</td>\n",
       "      <td>134644</td>\n",
       "      <td>46.35</td>\n",
       "      <td>44906</td>\n",
       "    </tr>\n",
       "    <tr>\n",
       "      <th>2</th>\n",
       "      <td>BX10</td>\n",
       "      <td>12913.81703</td>\n",
       "      <td>121209</td>\n",
       "      <td>45.20</td>\n",
       "      <td>54962</td>\n",
       "    </tr>\n",
       "    <tr>\n",
       "      <th>3</th>\n",
       "      <td>BX11</td>\n",
       "      <td>35677.95453</td>\n",
       "      <td>135839</td>\n",
       "      <td>50.09</td>\n",
       "      <td>47910</td>\n",
       "    </tr>\n",
       "    <tr>\n",
       "      <th>4</th>\n",
       "      <td>BX03</td>\n",
       "      <td>39405.79222</td>\n",
       "      <td>172247</td>\n",
       "      <td>44.72</td>\n",
       "      <td>22041</td>\n",
       "    </tr>\n",
       "  </tbody>\n",
       "</table>\n",
       "</div>"
      ],
      "text/plain": [
       "   CM B  Population Density (per sq. mile)  Total Population  \\\n",
       "0  BX08                        31229.95006            106737   \n",
       "1  BX12                        19966.67839            134644   \n",
       "2  BX10                        12913.81703            121209   \n",
       "3  BX11                        35677.95453            135839   \n",
       "4  BX03                        39405.79222            172247   \n",
       "\n",
       "   % Total Population: Male  \\\n",
       "0                     46.65   \n",
       "1                     46.35   \n",
       "2                     45.20   \n",
       "3                     50.09   \n",
       "4                     44.72   \n",
       "\n",
       "   Median household income (In 2014 Inflation Adjusted Dollars)  \n",
       "0                                              54224             \n",
       "1                                              44906             \n",
       "2                                              54962             \n",
       "3                                              47910             \n",
       "4                                              22041             "
      ]
     },
     "execution_count": 251,
     "metadata": {},
     "output_type": "execute_result"
    }
   ],
   "source": [
    "pop_f = pop\n",
    "pop_f.rename(columns={'cd_id': 'CM B'}, inplace=True)\n",
    "pop_f.head()"
   ]
  },
  {
   "cell_type": "code",
   "execution_count": 252,
   "metadata": {
    "collapsed": false
   },
   "outputs": [
    {
     "data": {
      "text/html": [
       "<div>\n",
       "<table border=\"1\" class=\"dataframe\">\n",
       "  <thead>\n",
       "    <tr style=\"text-align: right;\">\n",
       "      <th></th>\n",
       "      <th>CM B</th>\n",
       "      <th>With Mobile Broadband</th>\n",
       "      <th>Without Mobile Broadband</th>\n",
       "      <th>high connections</th>\n",
       "      <th>low connections</th>\n",
       "    </tr>\n",
       "  </thead>\n",
       "  <tbody>\n",
       "    <tr>\n",
       "      <th>0</th>\n",
       "      <td>BX08</td>\n",
       "      <td>17527</td>\n",
       "      <td>14774</td>\n",
       "      <td>29183</td>\n",
       "      <td>12852</td>\n",
       "    </tr>\n",
       "    <tr>\n",
       "      <th>1</th>\n",
       "      <td>BX12</td>\n",
       "      <td>11414</td>\n",
       "      <td>24687</td>\n",
       "      <td>31137</td>\n",
       "      <td>13693</td>\n",
       "    </tr>\n",
       "    <tr>\n",
       "      <th>2</th>\n",
       "      <td>BX10</td>\n",
       "      <td>12064</td>\n",
       "      <td>22955</td>\n",
       "      <td>31932</td>\n",
       "      <td>15118</td>\n",
       "    </tr>\n",
       "    <tr>\n",
       "      <th>3</th>\n",
       "      <td>BX11</td>\n",
       "      <td>11749</td>\n",
       "      <td>23417</td>\n",
       "      <td>30861</td>\n",
       "      <td>14061</td>\n",
       "    </tr>\n",
       "    <tr>\n",
       "      <th>4</th>\n",
       "      <td>BX03</td>\n",
       "      <td>16292</td>\n",
       "      <td>20026</td>\n",
       "      <td>34030</td>\n",
       "      <td>23526</td>\n",
       "    </tr>\n",
       "  </tbody>\n",
       "</table>\n",
       "</div>"
      ],
      "text/plain": [
       "   CM B  With Mobile Broadband  Without Mobile Broadband  high connections  \\\n",
       "0  BX08                  17527                     14774             29183   \n",
       "1  BX12                  11414                     24687             31137   \n",
       "2  BX10                  12064                     22955             31932   \n",
       "3  BX11                  11749                     23417             30861   \n",
       "4  BX03                  16292                     20026             34030   \n",
       "\n",
       "   low connections  \n",
       "0            12852  \n",
       "1            13693  \n",
       "2            15118  \n",
       "3            14061  \n",
       "4            23526  "
      ]
     },
     "execution_count": 252,
     "metadata": {},
     "output_type": "execute_result"
    }
   ],
   "source": [
    "# Harmonize identifier of dataframe 3\n",
    "infr_1.head()"
   ]
  },
  {
   "cell_type": "code",
   "execution_count": 215,
   "metadata": {
    "collapsed": false,
    "scrolled": true
   },
   "outputs": [
    {
     "name": "stderr",
     "output_type": "stream",
     "text": [
      "/Library/Frameworks/Python.framework/Versions/3.5/lib/python3.5/site-packages/ipykernel/__main__.py:1: SettingWithCopyWarning: \n",
      "A value is trying to be set on a copy of a slice from a DataFrame.\n",
      "Try using .loc[row_indexer,col_indexer] = value instead\n",
      "\n",
      "See the caveats in the documentation: http://pandas.pydata.org/pandas-docs/stable/indexing.html#indexing-view-versus-copy\n",
      "  if __name__ == '__main__':\n",
      "/Library/Frameworks/Python.framework/Versions/3.5/lib/python3.5/site-packages/ipykernel/__main__.py:2: SettingWithCopyWarning: \n",
      "A value is trying to be set on a copy of a slice from a DataFrame.\n",
      "Try using .loc[row_indexer,col_indexer] = value instead\n",
      "\n",
      "See the caveats in the documentation: http://pandas.pydata.org/pandas-docs/stable/indexing.html#indexing-view-versus-copy\n",
      "  from ipykernel import kernelapp as app\n",
      "/Library/Frameworks/Python.framework/Versions/3.5/lib/python3.5/site-packages/ipykernel/__main__.py:3: SettingWithCopyWarning: \n",
      "A value is trying to be set on a copy of a slice from a DataFrame.\n",
      "Try using .loc[row_indexer,col_indexer] = value instead\n",
      "\n",
      "See the caveats in the documentation: http://pandas.pydata.org/pandas-docs/stable/indexing.html#indexing-view-versus-copy\n",
      "  app.launch_new_instance()\n",
      "/Library/Frameworks/Python.framework/Versions/3.5/lib/python3.5/site-packages/ipykernel/__main__.py:4: SettingWithCopyWarning: \n",
      "A value is trying to be set on a copy of a slice from a DataFrame.\n",
      "Try using .loc[row_indexer,col_indexer] = value instead\n",
      "\n",
      "See the caveats in the documentation: http://pandas.pydata.org/pandas-docs/stable/indexing.html#indexing-view-versus-copy\n",
      "/Library/Frameworks/Python.framework/Versions/3.5/lib/python3.5/site-packages/ipykernel/__main__.py:5: SettingWithCopyWarning: \n",
      "A value is trying to be set on a copy of a slice from a DataFrame.\n",
      "Try using .loc[row_indexer,col_indexer] = value instead\n",
      "\n",
      "See the caveats in the documentation: http://pandas.pydata.org/pandas-docs/stable/indexing.html#indexing-view-versus-copy\n"
     ]
    },
    {
     "data": {
      "text/html": [
       "<div>\n",
       "<table border=\"1\" class=\"dataframe\">\n",
       "  <thead>\n",
       "    <tr style=\"text-align: right;\">\n",
       "      <th></th>\n",
       "      <th>Qualifying Name</th>\n",
       "      <th>With Mobile Broadband</th>\n",
       "      <th>Without Mobile Broadband</th>\n",
       "      <th>high connections</th>\n",
       "      <th>low connections</th>\n",
       "    </tr>\n",
       "  </thead>\n",
       "  <tbody>\n",
       "    <tr>\n",
       "      <th>0</th>\n",
       "      <td>BX08</td>\n",
       "      <td>17527</td>\n",
       "      <td>14774</td>\n",
       "      <td>29183</td>\n",
       "      <td>12852</td>\n",
       "    </tr>\n",
       "    <tr>\n",
       "      <th>1</th>\n",
       "      <td>BX12</td>\n",
       "      <td>11414</td>\n",
       "      <td>24687</td>\n",
       "      <td>31137</td>\n",
       "      <td>13693</td>\n",
       "    </tr>\n",
       "    <tr>\n",
       "      <th>2</th>\n",
       "      <td>BX10</td>\n",
       "      <td>12064</td>\n",
       "      <td>22955</td>\n",
       "      <td>31932</td>\n",
       "      <td>15118</td>\n",
       "    </tr>\n",
       "    <tr>\n",
       "      <th>3</th>\n",
       "      <td>BX11</td>\n",
       "      <td>11749</td>\n",
       "      <td>23417</td>\n",
       "      <td>30861</td>\n",
       "      <td>14061</td>\n",
       "    </tr>\n",
       "    <tr>\n",
       "      <th>4</th>\n",
       "      <td>BX03</td>\n",
       "      <td>16292</td>\n",
       "      <td>20026</td>\n",
       "      <td>34030</td>\n",
       "      <td>23526</td>\n",
       "    </tr>\n",
       "  </tbody>\n",
       "</table>\n",
       "</div>"
      ],
      "text/plain": [
       "  Qualifying Name  With Mobile Broadband  Without Mobile Broadband  \\\n",
       "0            BX08                  17527                     14774   \n",
       "1            BX12                  11414                     24687   \n",
       "2            BX10                  12064                     22955   \n",
       "3            BX11                  11749                     23417   \n",
       "4            BX03                  16292                     20026   \n",
       "\n",
       "   high connections  low connections  \n",
       "0             29183            12852  \n",
       "1             31137            13693  \n",
       "2             31932            15118  \n",
       "3             30861            14061  \n",
       "4             34030            23526  "
      ]
     },
     "execution_count": 215,
     "metadata": {},
     "output_type": "execute_result"
    }
   ],
   "source": [
    "infr_1['Qualifying Name'] = infr_1['Qualifying Name'].str.replace('NYC-Bronx Community District', 'BX')\n",
    "infr_1['Qualifying Name']  = infr_1['Qualifying Name'].str.replace('NYC-Manhattan Community District', 'MN')\n",
    "infr_1['Qualifying Name']  = infr_1['Qualifying Name'].str.replace('NYC-Staten Island Community District', 'SI')\n",
    "infr_1['Qualifying Name']  = infr_1['Qualifying Name'].str.replace('NYC-Brooklyn Community District', 'BK')\n",
    "infr_1['Qualifying Name']  = infr_1['Qualifying Name'].str.replace('NYC-Queens Community District', 'QN')\n",
    "\n",
    "infr_1.head()\n"
   ]
  },
  {
   "cell_type": "code",
   "execution_count": 160,
   "metadata": {
    "collapsed": false
   },
   "outputs": [],
   "source": [
    "#infr_d['Qualifying Name'].map(lambda x: str(x)[2:])\n",
    "\n",
    "test = infr_1['Qualifying Name'].map(lambda x: str(x).split('-')[0])\n",
    "test_1 = test.map(lambda x: str(x).split(' ')[1])\n",
    "test_2 = test.map(lambda x: str(x).split(' ')[0])\n",
    "test_1 = test_1.str.zfill(2)\n",
    "test = test_2 + test_1\n",
    "\n",
    "\n"
   ]
  },
  {
   "cell_type": "code",
   "execution_count": 240,
   "metadata": {
    "collapsed": false
   },
   "outputs": [
    {
     "name": "stderr",
     "output_type": "stream",
     "text": [
      "/Library/Frameworks/Python.framework/Versions/3.5/lib/python3.5/site-packages/ipykernel/__main__.py:2: SettingWithCopyWarning: \n",
      "A value is trying to be set on a copy of a slice from a DataFrame.\n",
      "Try using .loc[row_indexer,col_indexer] = value instead\n",
      "\n",
      "See the caveats in the documentation: http://pandas.pydata.org/pandas-docs/stable/indexing.html#indexing-view-versus-copy\n",
      "  from ipykernel import kernelapp as app\n",
      "/Library/Frameworks/Python.framework/Versions/3.5/lib/python3.5/site-packages/pandas/core/frame.py:2754: SettingWithCopyWarning: \n",
      "A value is trying to be set on a copy of a slice from a DataFrame\n",
      "\n",
      "See the caveats in the documentation: http://pandas.pydata.org/pandas-docs/stable/indexing.html#indexing-view-versus-copy\n",
      "  **kwargs)\n"
     ]
    },
    {
     "data": {
      "text/html": [
       "<div>\n",
       "<table border=\"1\" class=\"dataframe\">\n",
       "  <thead>\n",
       "    <tr style=\"text-align: right;\">\n",
       "      <th></th>\n",
       "      <th>CM B</th>\n",
       "      <th>With Mobile Broadband</th>\n",
       "      <th>Without Mobile Broadband</th>\n",
       "      <th>high connections</th>\n",
       "      <th>low connections</th>\n",
       "    </tr>\n",
       "  </thead>\n",
       "  <tbody>\n",
       "    <tr>\n",
       "      <th>0</th>\n",
       "      <td>BX08</td>\n",
       "      <td>17527</td>\n",
       "      <td>14774</td>\n",
       "      <td>29183</td>\n",
       "      <td>12852</td>\n",
       "    </tr>\n",
       "    <tr>\n",
       "      <th>1</th>\n",
       "      <td>BX12</td>\n",
       "      <td>11414</td>\n",
       "      <td>24687</td>\n",
       "      <td>31137</td>\n",
       "      <td>13693</td>\n",
       "    </tr>\n",
       "    <tr>\n",
       "      <th>2</th>\n",
       "      <td>BX10</td>\n",
       "      <td>12064</td>\n",
       "      <td>22955</td>\n",
       "      <td>31932</td>\n",
       "      <td>15118</td>\n",
       "    </tr>\n",
       "    <tr>\n",
       "      <th>3</th>\n",
       "      <td>BX11</td>\n",
       "      <td>11749</td>\n",
       "      <td>23417</td>\n",
       "      <td>30861</td>\n",
       "      <td>14061</td>\n",
       "    </tr>\n",
       "    <tr>\n",
       "      <th>4</th>\n",
       "      <td>BX03</td>\n",
       "      <td>16292</td>\n",
       "      <td>20026</td>\n",
       "      <td>34030</td>\n",
       "      <td>23526</td>\n",
       "    </tr>\n",
       "  </tbody>\n",
       "</table>\n",
       "</div>"
      ],
      "text/plain": [
       "   CM B  With Mobile Broadband  Without Mobile Broadband  high connections  \\\n",
       "0  BX08                  17527                     14774             29183   \n",
       "1  BX12                  11414                     24687             31137   \n",
       "2  BX10                  12064                     22955             31932   \n",
       "3  BX11                  11749                     23417             30861   \n",
       "4  BX03                  16292                     20026             34030   \n",
       "\n",
       "   low connections  \n",
       "0            12852  \n",
       "1            13693  \n",
       "2            15118  \n",
       "3            14061  \n",
       "4            23526  "
      ]
     },
     "execution_count": 240,
     "metadata": {},
     "output_type": "execute_result"
    }
   ],
   "source": [
    "infr_f = infr_1\n",
    "infr_f['Qualifying Name'] = test\n",
    "infr_f.rename(columns={'Qualifying Name': 'CM B'}, inplace=True)\n",
    "infr_f.head()"
   ]
  },
  {
   "cell_type": "code",
   "execution_count": 254,
   "metadata": {
    "collapsed": false
   },
   "outputs": [
    {
     "data": {
      "text/html": [
       "<div>\n",
       "<table border=\"1\" class=\"dataframe\">\n",
       "  <thead>\n",
       "    <tr style=\"text-align: right;\">\n",
       "      <th></th>\n",
       "      <th>CM B</th>\n",
       "      <th>Complaint Count</th>\n",
       "      <th>Population Density (per sq. mile)</th>\n",
       "      <th>Total Population</th>\n",
       "      <th>% Total Population: Male</th>\n",
       "      <th>Median household income (In 2014 Inflation Adjusted Dollars)</th>\n",
       "      <th>With Mobile Broadband</th>\n",
       "      <th>Without Mobile Broadband</th>\n",
       "      <th>high connections</th>\n",
       "      <th>low connections</th>\n",
       "    </tr>\n",
       "  </thead>\n",
       "  <tbody>\n",
       "    <tr>\n",
       "      <th>0</th>\n",
       "      <td>BX01</td>\n",
       "      <td>22</td>\n",
       "      <td>34412.07524</td>\n",
       "      <td>167147</td>\n",
       "      <td>49.63</td>\n",
       "      <td>21116</td>\n",
       "      <td>15981</td>\n",
       "      <td>18082</td>\n",
       "      <td>31711</td>\n",
       "      <td>20480</td>\n",
       "    </tr>\n",
       "    <tr>\n",
       "      <th>1</th>\n",
       "      <td>BK01</td>\n",
       "      <td>27</td>\n",
       "      <td>37671.51058</td>\n",
       "      <td>154713</td>\n",
       "      <td>49.93</td>\n",
       "      <td>57818</td>\n",
       "      <td>21459</td>\n",
       "      <td>28172</td>\n",
       "      <td>44621</td>\n",
       "      <td>18369</td>\n",
       "    </tr>\n",
       "    <tr>\n",
       "      <th>2</th>\n",
       "      <td>MN01</td>\n",
       "      <td>7</td>\n",
       "      <td>53928.05360</td>\n",
       "      <td>159903</td>\n",
       "      <td>49.00</td>\n",
       "      <td>120190</td>\n",
       "      <td>41450</td>\n",
       "      <td>37427</td>\n",
       "      <td>72767</td>\n",
       "      <td>11209</td>\n",
       "    </tr>\n",
       "    <tr>\n",
       "      <th>3</th>\n",
       "      <td>QN01</td>\n",
       "      <td>29</td>\n",
       "      <td>35800.75960</td>\n",
       "      <td>182860</td>\n",
       "      <td>49.32</td>\n",
       "      <td>56269</td>\n",
       "      <td>31144</td>\n",
       "      <td>31949</td>\n",
       "      <td>60125</td>\n",
       "      <td>15633</td>\n",
       "    </tr>\n",
       "    <tr>\n",
       "      <th>4</th>\n",
       "      <td>SI01</td>\n",
       "      <td>17</td>\n",
       "      <td>12537.60496</td>\n",
       "      <td>176338</td>\n",
       "      <td>49.29</td>\n",
       "      <td>57602</td>\n",
       "      <td>11151</td>\n",
       "      <td>53345</td>\n",
       "      <td>46304</td>\n",
       "      <td>15743</td>\n",
       "    </tr>\n",
       "  </tbody>\n",
       "</table>\n",
       "</div>"
      ],
      "text/plain": [
       "   CM B  Complaint Count  Population Density (per sq. mile)  Total Population  \\\n",
       "0  BX01               22                        34412.07524            167147   \n",
       "1  BK01               27                        37671.51058            154713   \n",
       "2  MN01                7                        53928.05360            159903   \n",
       "3  QN01               29                        35800.75960            182860   \n",
       "4  SI01               17                        12537.60496            176338   \n",
       "\n",
       "   % Total Population: Male  \\\n",
       "0                     49.63   \n",
       "1                     49.93   \n",
       "2                     49.00   \n",
       "3                     49.32   \n",
       "4                     49.29   \n",
       "\n",
       "   Median household income (In 2014 Inflation Adjusted Dollars)  \\\n",
       "0                                              21116              \n",
       "1                                              57818              \n",
       "2                                             120190              \n",
       "3                                              56269              \n",
       "4                                              57602              \n",
       "\n",
       "   With Mobile Broadband  Without Mobile Broadband  high connections  \\\n",
       "0                  15981                     18082             31711   \n",
       "1                  21459                     28172             44621   \n",
       "2                  41450                     37427             72767   \n",
       "3                  31144                     31949             60125   \n",
       "4                  11151                     53345             46304   \n",
       "\n",
       "   low connections  \n",
       "0            20480  \n",
       "1            18369  \n",
       "2            11209  \n",
       "3            15633  \n",
       "4            15743  "
      ]
     },
     "execution_count": 254,
     "metadata": {},
     "output_type": "execute_result"
    }
   ],
   "source": [
    "# Link the 3 dataframes\n",
    "final_1 = pd.merge(complaint_f, pop_f, how='inner', on =['CM B'])\n",
    "final = pd.merge(final_1, infr_f, how='inner', on =['CM B'])\n",
    "final.head()"
   ]
  },
  {
   "cell_type": "code",
   "execution_count": 38,
   "metadata": {
    "collapsed": true
   },
   "outputs": [],
   "source": [
    "# Are the demographics and infrastructure different in Community Districts that show more complaints than others?"
   ]
  },
  {
   "cell_type": "code",
   "execution_count": 294,
   "metadata": {
    "collapsed": false
   },
   "outputs": [
    {
     "name": "stderr",
     "output_type": "stream",
     "text": [
      "/Library/Frameworks/Python.framework/Versions/3.5/lib/python3.5/site-packages/ipykernel/__main__.py:1: FutureWarning: sort(columns=....) is deprecated, use sort_values(by=.....)\n",
      "  if __name__ == '__main__':\n"
     ]
    }
   ],
   "source": [
    "final = final.sort(['Complaint Count'], ascending = 0)"
   ]
  },
  {
   "cell_type": "code",
   "execution_count": 313,
   "metadata": {
    "collapsed": false
   },
   "outputs": [
    {
     "data": {
      "text/plain": [
       "<matplotlib.legend.Legend at 0x10e92bba8>"
      ]
     },
     "execution_count": 313,
     "metadata": {},
     "output_type": "execute_result"
    },
    {
     "data": {
      "image/png": "[encoded data removed]",
      "text/plain": [
       "<matplotlib.figure.Figure at 0x108a545f8>"
      ]
     },
     "metadata": {},
     "output_type": "display_data"
    }
   ],
   "source": [
    "(final['Complaint Count'] / final['Complaint Count'].sum()).plot(kind = 'bar', color = 'red', figsize=(16, 16))\n",
    "ax_1 = (final['Population Density (per sq. mile)'] / final['Population Density (per sq. mile)'].sum())\\\n",
    ".plot(kind = 'bar', color = 'blue', alpha = 0.5)\n",
    "\n",
    "ax_1.xaxis.set_ticklabels(final['CM B'])\n",
    "ax_1.set_ylabel('Normalized percentage')\n",
    "ax_1.set_xlabel('Community District')\n",
    "ax_1.set_title('Compliant Conut Vs. Population Density from different district',fontsize = 20)\n",
    "ax_1.legend()"
   ]
  },
  {
   "cell_type": "markdown",
   "metadata": {},
   "source": [
    "### Figure1: From the plot above we can see that for most of the districts, more density of population might link to a high percemtage of the complaint. "
   ]
  },
  {
   "cell_type": "code",
   "execution_count": 314,
   "metadata": {
    "collapsed": false
   },
   "outputs": [
    {
     "data": {
      "text/plain": [
       "<matplotlib.legend.Legend at 0x10f215f60>"
      ]
     },
     "execution_count": 314,
     "metadata": {},
     "output_type": "execute_result"
    },
    {
     "data": {
      "image/png": "[encoded data removed]",
      "text/plain": [
       "<matplotlib.figure.Figure at 0x10e715470>"
      ]
     },
     "metadata": {},
     "output_type": "display_data"
    }
   ],
   "source": [
    "\n",
    "(final['Complaint Count'] / final['Complaint Count'].sum()).plot(kind = 'bar', color = 'red', figsize=(16, 16))\n",
    "ax_2 = (final['Total Population'] / final['Total Population'].sum()).plot(kind = 'bar', color = 'blue', alpha =  0.5)\n",
    "\n",
    "ax_2.xaxis.set_ticklabels(final['CM B'])\n",
    "ax_2.set_ylabel('Normalized percentage')\n",
    "ax_2.set_xlabel('Community District')\n",
    "ax_2.set_title('Compliant Conut Vs. Total Population from different district',fontsize = 20)\n",
    "ax_2.legend()\n"
   ]
  },
  {
   "cell_type": "markdown",
   "metadata": {},
   "source": [
    "### Figure 2: From the plot above shows that the relationship between total population and complaint count is not cleat, afterall, large population might reslut from large district area. "
   ]
  },
  {
   "cell_type": "code",
   "execution_count": 312,
   "metadata": {
    "collapsed": false,
    "scrolled": false
   },
   "outputs": [
    {
     "data": {
      "text/plain": [
       "<matplotlib.legend.Legend at 0x1041a9780>"
      ]
     },
     "execution_count": 312,
     "metadata": {},
     "output_type": "execute_result"
    },
    {
     "data": {
      "image/png": "[encoded data removed]",
      "text/plain": [
       "<matplotlib.figure.Figure at 0x1041a3f98>"
      ]
     },
     "metadata": {},
     "output_type": "display_data"
    }
   ],
   "source": [
    "(final['Complaint Count'] / final['Complaint Count'].sum()).plot(kind = 'bar', color = 'red', figsize=(16, 16))\n",
    "ax_3 = (final['% Total Population: Male'] / final['% Total Population: Male'].sum())\\\n",
    ".plot(kind = 'bar', color = 'blue', alpha =  0.5)\n",
    "\n",
    "ax_3.xaxis.set_ticklabels(final['CM B'])\n",
    "ax_3.set_ylabel('Normalized percentage')\n",
    "ax_3.set_xlabel('Community District')\n",
    "ax_3.set_title('Compliant Conut Vs. % Total Population: Male from different district',fontsize = 20)\n",
    "ax_3.legend()\n"
   ]
  },
  {
   "cell_type": "markdown",
   "metadata": {},
   "source": [
    "### Figure 3: This figure shows tha the % of male in the district has a rather stable trend which indicates weak relationship with complanit count."
   ]
  },
  {
   "cell_type": "code",
   "execution_count": 315,
   "metadata": {
    "collapsed": false
   },
   "outputs": [
    {
     "data": {
      "text/plain": [
       "<matplotlib.legend.Legend at 0x10f54d400>"
      ]
     },
     "execution_count": 315,
     "metadata": {},
     "output_type": "execute_result"
    },
    {
     "data": {
      "image/png": "[encoded data removed]",
      "text/plain": [
       "<matplotlib.figure.Figure at 0x10eb76da0>"
      ]
     },
     "metadata": {},
     "output_type": "display_data"
    }
   ],
   "source": [
    "(final['Complaint Count'] / final['Complaint Count'].sum()).plot(kind = 'bar', color = 'red', figsize=(16, 16))\n",
    "ax_4 = (final['Median household income (In 2014 Inflation Adjusted Dollars)'] / \\\n",
    "        final['Median household income (In 2014 Inflation Adjusted Dollars)'].sum())\\\n",
    ".plot(kind = 'bar', color = 'blue', alpha =  0.5)\n",
    "\n",
    "ax_4.xaxis.set_ticklabels(final['CM B'])\n",
    "ax_4.set_ylabel('Normalized percentage')\n",
    "ax_4.set_xlabel('Community District')\n",
    "ax_4.set_title('Compliant Conut Vs. Median household income from different district',fontsize = 20)\n",
    "ax_4.legend()\n"
   ]
  },
  {
   "cell_type": "markdown",
   "metadata": {},
   "source": [
    "### Figure 4: This figure also indicates low relationship between complaints count and household income."
   ]
  },
  {
   "cell_type": "code",
   "execution_count": 316,
   "metadata": {
    "collapsed": false
   },
   "outputs": [
    {
     "data": {
      "text/plain": [
       "<matplotlib.legend.Legend at 0x10f715898>"
      ]
     },
     "execution_count": 316,
     "metadata": {},
     "output_type": "execute_result"
    },
    {
     "data": {
      "image/png": "[encoded data removed]",
      "text/plain": [
       "<matplotlib.figure.Figure at 0x10f45c6a0>"
      ]
     },
     "metadata": {},
     "output_type": "display_data"
    }
   ],
   "source": [
    "(final['Complaint Count'] / final['Complaint Count'].sum()).plot(kind = 'bar', color = 'red', figsize=(16, 16))\n",
    "ax_5 = (final['With Mobile Broadband'] / final['With Mobile Broadband'].sum())\\\n",
    ".plot(kind = 'bar', color = 'blue', alpha =  0.5)\n",
    "\n",
    "ax_5.xaxis.set_ticklabels(final['CM B'])\n",
    "ax_5.set_ylabel('Normalized percentage')\n",
    "ax_5.set_xlabel('Community District')\n",
    "ax_5.set_title('Compliant Conut Vs. With Mobile Broadband from different district',fontsize = 20)\n",
    "ax_5.legend()\n"
   ]
  },
  {
   "cell_type": "markdown",
   "metadata": {},
   "source": [
    "### Figure 5: This figure indicates low correlation between complaints count and percentage of household with mobile broadband."
   ]
  },
  {
   "cell_type": "code",
   "execution_count": 317,
   "metadata": {
    "collapsed": false
   },
   "outputs": [
    {
     "data": {
      "text/plain": [
       "<matplotlib.legend.Legend at 0x10f601400>"
      ]
     },
     "execution_count": 317,
     "metadata": {},
     "output_type": "execute_result"
    },
    {
     "data": {
      "image/png": "[encoded data removed]",
      "text/plain": [
       "<matplotlib.figure.Figure at 0x10f5fc898>"
      ]
     },
     "metadata": {},
     "output_type": "display_data"
    }
   ],
   "source": [
    "(final['Complaint Count'] / final['Complaint Count'].sum()).plot(kind = 'bar', color = 'red', figsize=(16, 16))\n",
    "ax_6 = (final['Without Mobile Broadband'] / final['Without Mobile Broadband'].sum())\\\n",
    ".plot(kind = 'bar', color = 'blue', alpha =  0.5)\n",
    "\n",
    "ax_6.xaxis.set_ticklabels(final['CM B'])\n",
    "ax_6.set_ylabel('Normalized percentage')\n",
    "ax_6.set_xlabel('Community District')\n",
    "ax_6.set_title('Compliant Conut Vs. Without Mobile Broadband from different district',fontsize = 20)\n",
    "ax_6.legend()\n"
   ]
  },
  {
   "cell_type": "markdown",
   "metadata": {},
   "source": [
    "### Figure 6: This figure indicates low correlation between complaints count and percentage of household without mobile broadband."
   ]
  },
  {
   "cell_type": "code",
   "execution_count": 318,
   "metadata": {
    "collapsed": false
   },
   "outputs": [
    {
     "data": {
      "text/plain": [
       "<matplotlib.legend.Legend at 0x1124762e8>"
      ]
     },
     "execution_count": 318,
     "metadata": {},
     "output_type": "execute_result"
    },
    {
     "data": {
      "image/png": "[encoded data removed]",
      "text/plain": [
       "<matplotlib.figure.Figure at 0x112067ba8>"
      ]
     },
     "metadata": {},
     "output_type": "display_data"
    }
   ],
   "source": [
    "(final['Complaint Count'] / final['Complaint Count'].sum()).plot(kind = 'bar', color = 'red', figsize=(16, 16))\n",
    "ax_7 = (final['high connections'] / final['high connections'].sum())\\\n",
    ".plot(kind = 'bar', color = 'blue', alpha =  0.5)\n",
    "\n",
    "ax_7.xaxis.set_ticklabels(final['CM B'])\n",
    "ax_7.set_ylabel('Normalized percentage')\n",
    "ax_7.set_xlabel('Community District')\n",
    "ax_7.set_title('Compliant Conut Vs. high connections from different district',fontsize = 20)\n",
    "ax_7.legend()\n"
   ]
  },
  {
   "cell_type": "markdown",
   "metadata": {},
   "source": [
    "### Figure 7: This figure indicates low correlation between complaints count and high internet connection."
   ]
  },
  {
   "cell_type": "code",
   "execution_count": 319,
   "metadata": {
    "collapsed": false
   },
   "outputs": [
    {
     "data": {
      "text/plain": [
       "<matplotlib.legend.Legend at 0x11e136c50>"
      ]
     },
     "execution_count": 319,
     "metadata": {},
     "output_type": "execute_result"
    },
    {
     "data": {
      "image/png": "[encoded data removed]",
      "text/plain": [
       "<matplotlib.figure.Figure at 0x1122cecc0>"
      ]
     },
     "metadata": {},
     "output_type": "display_data"
    }
   ],
   "source": [
    "(final['Complaint Count'] / final['Complaint Count'].sum()).plot(kind = 'bar', color = 'red', figsize=(16, 16))\n",
    "ax_7 = (final['low connections'] / final['low connections'].sum())\\\n",
    ".plot(kind = 'bar', color = 'blue', alpha =  0.5)\n",
    "\n",
    "ax_7.xaxis.set_ticklabels(final['CM B'])\n",
    "ax_7.set_ylabel('Normalized percentage')\n",
    "ax_7.set_xlabel('Community District')\n",
    "ax_7.set_title('Compliant Conut Vs. low connections from different district',fontsize = 20)\n",
    "ax_7.legend()\n"
   ]
  },
  {
   "cell_type": "markdown",
   "metadata": {},
   "source": [
    "### Figure 8:  This figure indicates low correlation between complaints count and low internet connection.¶"
   ]
  },
  {
   "cell_type": "code",
   "execution_count": null,
   "metadata": {
    "collapsed": true
   },
   "outputs": [],
   "source": []
  }
 ],
 "metadata": {
  "kernelspec": {
   "display_name": "Python 3",
   "language": "python",
   "name": "python3"
  },
  "language_info": {
   "codemirror_mode": {
    "name": "ipython",
    "version": 3
   },
   "file_extension": ".py",
   "mimetype": "text/x-python",
   "name": "python",
   "nbconvert_exporter": "python",
   "pygments_lexer": "ipython3",
   "version": "3.5.2"
  }
 },
 "nbformat": 4,
 "nbformat_minor": 1
}
